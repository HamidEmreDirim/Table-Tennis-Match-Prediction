{
 "cells": [
  {
   "attachments": {},
   "cell_type": "markdown",
   "metadata": {},
   "source": [
    "<h2> Table Tennis Match Predictor in Men's Single Category </h2>"
   ]
  },
  {
   "attachments": {},
   "cell_type": "markdown",
   "metadata": {},
   "source": [
    "<h4> First I'll clean up the data and make ready to perform some explanatory data analysis and machine learning. </h4>"
   ]
  },
  {
   "cell_type": "code",
   "execution_count": 1,
   "metadata": {},
   "outputs": [],
   "source": [
    "import matplotlib.pyplot as plt"
   ]
  },
  {
   "cell_type": "code",
   "execution_count": 2,
   "metadata": {},
   "outputs": [],
   "source": [
    "import pandas as pd\n",
    "\n",
    "\n",
    "\n",
    "player_rankings = pd.read_csv(\"player_data.csv\").values.tolist()\n",
    "matches = pd.read_csv(\"match_data.csv\").values.tolist()\n"
   ]
  },
  {
   "cell_type": "code",
   "execution_count": 3,
   "metadata": {},
   "outputs": [],
   "source": [
    "temp = dict()\n",
    "\n",
    "numbers = [\"0\", \"1\", \"2\", \"3\", \"4\", \"5\", \"6\", \"7\", \"8\", \"9\"]\n",
    "player_rankings = [x for x in player_rankings if x[-1][0] not in numbers]\n",
    "player_names = [x[0] for x in player_rankings]\n",
    "\n",
    "for x in player_rankings:\n",
    "    temp[x[0]] = x[2:]\n"
   ]
  },
  {
   "cell_type": "code",
   "execution_count": 4,
   "metadata": {},
   "outputs": [],
   "source": [
    "usefull_matches = []\n",
    "\n",
    "\n",
    "for match in matches:\n",
    "    if match[0] in player_names and match[1] in player_names:\n",
    "        usefull_matches.append(match)\n",
    "        \n",
    "\n",
    "\n",
    "\n",
    "\n",
    "\n"
   ]
  },
  {
   "cell_type": "code",
   "execution_count": 5,
   "metadata": {},
   "outputs": [],
   "source": [
    "ultimate_data = usefull_matches.copy()"
   ]
  },
  {
   "cell_type": "code",
   "execution_count": 6,
   "metadata": {},
   "outputs": [],
   "source": [
    "for match in ultimate_data:\n",
    "\n",
    "    match[0] = temp[match[0]]\n",
    "    match[1] = temp[match[1]]\n",
    "\n"
   ]
  },
  {
   "attachments": {},
   "cell_type": "markdown",
   "metadata": {},
   "source": [
    "<p> Data has jointed to one row. In the first column there are attributes regarding the first player. In the second column there are seconds players attribute. In the last to columns we have the results of the match </p>"
   ]
  },
  {
   "cell_type": "code",
   "execution_count": 7,
   "metadata": {},
   "outputs": [
    {
     "data": {
      "text/html": [
       "<div>\n",
       "<style scoped>\n",
       "    .dataframe tbody tr th:only-of-type {\n",
       "        vertical-align: middle;\n",
       "    }\n",
       "\n",
       "    .dataframe tbody tr th {\n",
       "        vertical-align: top;\n",
       "    }\n",
       "\n",
       "    .dataframe thead th {\n",
       "        text-align: right;\n",
       "    }\n",
       "</style>\n",
       "<table border=\"1\" class=\"dataframe\">\n",
       "  <thead>\n",
       "    <tr style=\"text-align: right;\">\n",
       "      <th></th>\n",
       "      <th>0</th>\n",
       "      <th>1</th>\n",
       "      <th>2</th>\n",
       "      <th>3</th>\n",
       "    </tr>\n",
       "  </thead>\n",
       "  <tbody>\n",
       "    <tr>\n",
       "      <th>0</th>\n",
       "      <td>[552, 8.0, USA, 20, right, shakehand, 552, att...</td>\n",
       "      <td>[734, 116.15, Nigeria, 32, right, shakehand, 7...</td>\n",
       "      <td>4:0</td>\n",
       "      <td>1:0</td>\n",
       "    </tr>\n",
       "    <tr>\n",
       "      <th>1</th>\n",
       "      <td>[421, 6.0, USA, 46, left, shakehand, 421, attack]</td>\n",
       "      <td>[284, 90.86, Spain, 26, right, shakehand, 284,...</td>\n",
       "      <td>0:4</td>\n",
       "      <td>0:1</td>\n",
       "    </tr>\n",
       "    <tr>\n",
       "      <th>2</th>\n",
       "      <td>[571, 21.76, Republic, 31, right, shakehand, 5...</td>\n",
       "      <td>[280, 67.32, Slovakia, 23, left, shakehand, 28...</td>\n",
       "      <td>2:4</td>\n",
       "      <td>0:1</td>\n",
       "    </tr>\n",
       "    <tr>\n",
       "      <th>3</th>\n",
       "      <td>[314, 98.78, USA, 28, left, shakehand, 314, at...</td>\n",
       "      <td>[735, 3.0, USA, 42, right, shakehand, 735, att...</td>\n",
       "      <td>4:0</td>\n",
       "      <td>1:0</td>\n",
       "    </tr>\n",
       "    <tr>\n",
       "      <th>4</th>\n",
       "      <td>[119, 79.22, Japan, 30, right, shakehand, 119,...</td>\n",
       "      <td>[524, 20.19, Republic, 27, right, shakehand, 5...</td>\n",
       "      <td>4:2</td>\n",
       "      <td>1:0</td>\n",
       "    </tr>\n",
       "  </tbody>\n",
       "</table>\n",
       "</div>"
      ],
      "text/plain": [
       "                                                   0  \\\n",
       "0  [552, 8.0, USA, 20, right, shakehand, 552, att...   \n",
       "1  [421, 6.0, USA, 46, left, shakehand, 421, attack]   \n",
       "2  [571, 21.76, Republic, 31, right, shakehand, 5...   \n",
       "3  [314, 98.78, USA, 28, left, shakehand, 314, at...   \n",
       "4  [119, 79.22, Japan, 30, right, shakehand, 119,...   \n",
       "\n",
       "                                                   1    2    3  \n",
       "0  [734, 116.15, Nigeria, 32, right, shakehand, 7...  4:0  1:0  \n",
       "1  [284, 90.86, Spain, 26, right, shakehand, 284,...  0:4  0:1  \n",
       "2  [280, 67.32, Slovakia, 23, left, shakehand, 28...  2:4  0:1  \n",
       "3  [735, 3.0, USA, 42, right, shakehand, 735, att...  4:0  1:0  \n",
       "4  [524, 20.19, Republic, 27, right, shakehand, 5...  4:2  1:0  "
      ]
     },
     "execution_count": 7,
     "metadata": {},
     "output_type": "execute_result"
    }
   ],
   "source": [
    "df = pd.DataFrame(ultimate_data)\n",
    "\n",
    "df.head()"
   ]
  },
  {
   "cell_type": "code",
   "execution_count": 8,
   "metadata": {},
   "outputs": [
    {
     "data": {
      "text/html": [
       "<div>\n",
       "<style scoped>\n",
       "    .dataframe tbody tr th:only-of-type {\n",
       "        vertical-align: middle;\n",
       "    }\n",
       "\n",
       "    .dataframe tbody tr th {\n",
       "        vertical-align: top;\n",
       "    }\n",
       "\n",
       "    .dataframe thead th {\n",
       "        text-align: right;\n",
       "    }\n",
       "</style>\n",
       "<table border=\"1\" class=\"dataframe\">\n",
       "  <thead>\n",
       "    <tr style=\"text-align: right;\">\n",
       "      <th></th>\n",
       "      <th>0</th>\n",
       "      <th>1</th>\n",
       "      <th>2</th>\n",
       "      <th>winner</th>\n",
       "    </tr>\n",
       "  </thead>\n",
       "  <tbody>\n",
       "    <tr>\n",
       "      <th>0</th>\n",
       "      <td>[552, 8.0, USA, 20, right, shakehand, 552, att...</td>\n",
       "      <td>[734, 116.15, Nigeria, 32, right, shakehand, 7...</td>\n",
       "      <td>4:0</td>\n",
       "      <td>1</td>\n",
       "    </tr>\n",
       "    <tr>\n",
       "      <th>1</th>\n",
       "      <td>[421, 6.0, USA, 46, left, shakehand, 421, attack]</td>\n",
       "      <td>[284, 90.86, Spain, 26, right, shakehand, 284,...</td>\n",
       "      <td>0:4</td>\n",
       "      <td>0</td>\n",
       "    </tr>\n",
       "    <tr>\n",
       "      <th>2</th>\n",
       "      <td>[571, 21.76, Republic, 31, right, shakehand, 5...</td>\n",
       "      <td>[280, 67.32, Slovakia, 23, left, shakehand, 28...</td>\n",
       "      <td>2:4</td>\n",
       "      <td>0</td>\n",
       "    </tr>\n",
       "    <tr>\n",
       "      <th>3</th>\n",
       "      <td>[314, 98.78, USA, 28, left, shakehand, 314, at...</td>\n",
       "      <td>[735, 3.0, USA, 42, right, shakehand, 735, att...</td>\n",
       "      <td>4:0</td>\n",
       "      <td>1</td>\n",
       "    </tr>\n",
       "    <tr>\n",
       "      <th>4</th>\n",
       "      <td>[119, 79.22, Japan, 30, right, shakehand, 119,...</td>\n",
       "      <td>[524, 20.19, Republic, 27, right, shakehand, 5...</td>\n",
       "      <td>4:2</td>\n",
       "      <td>1</td>\n",
       "    </tr>\n",
       "  </tbody>\n",
       "</table>\n",
       "</div>"
      ],
      "text/plain": [
       "                                                   0  \\\n",
       "0  [552, 8.0, USA, 20, right, shakehand, 552, att...   \n",
       "1  [421, 6.0, USA, 46, left, shakehand, 421, attack]   \n",
       "2  [571, 21.76, Republic, 31, right, shakehand, 5...   \n",
       "3  [314, 98.78, USA, 28, left, shakehand, 314, at...   \n",
       "4  [119, 79.22, Japan, 30, right, shakehand, 119,...   \n",
       "\n",
       "                                                   1    2  winner  \n",
       "0  [734, 116.15, Nigeria, 32, right, shakehand, 7...  4:0       1  \n",
       "1  [284, 90.86, Spain, 26, right, shakehand, 284,...  0:4       0  \n",
       "2  [280, 67.32, Slovakia, 23, left, shakehand, 28...  2:4       0  \n",
       "3  [735, 3.0, USA, 42, right, shakehand, 735, att...  4:0       1  \n",
       "4  [524, 20.19, Republic, 27, right, shakehand, 5...  4:2       1  "
      ]
     },
     "execution_count": 8,
     "metadata": {},
     "output_type": "execute_result"
    }
   ],
   "source": [
    "def winner(x):\n",
    "    scores = x.split(\":\")\n",
    "    try:\n",
    "        if scores[0] > scores[1]:\n",
    "            return 1\n",
    "        else:\n",
    "            return 0\n",
    "    except:\n",
    "        return 0\n",
    "\n",
    "df[\"winner\"] = df[3].apply(winner)\n",
    "df = df.drop(axis=1, columns=[3])\n",
    "df.head()"
   ]
  },
  {
   "attachments": {},
   "cell_type": "markdown",
   "metadata": {},
   "source": [
    "<p> Now splitting the attributes of each players to new columns to interpret properly </p>"
   ]
  },
  {
   "cell_type": "code",
   "execution_count": 9,
   "metadata": {},
   "outputs": [],
   "source": [
    "match_score = df[2]\n",
    "df.drop(axis=1, columns=[2], inplace=True)"
   ]
  },
  {
   "cell_type": "code",
   "execution_count": 10,
   "metadata": {},
   "outputs": [],
   "source": [
    "p1_df = df[0]\n",
    "p2_df = df[1]"
   ]
  },
  {
   "cell_type": "code",
   "execution_count": 11,
   "metadata": {},
   "outputs": [],
   "source": [
    "def ranking(x):\n",
    "    return x[0]\n",
    "\n",
    "def avg_point(x):\n",
    "    return x[1]\n",
    "\n",
    "def country(x):\n",
    "    return x[2]\n",
    "\n",
    "def age(x):\n",
    "    return x[3]\n",
    "\n",
    "def dominant_hand(x):\n",
    "    return x[4]\n",
    "\n",
    "def grip(x):\n",
    "    return x[5]\n",
    "\n",
    "def player_style(x):\n",
    "    return x[7]\n",
    "\n",
    "\n",
    "p1_data = pd.DataFrame()\n",
    "\n",
    "p1_data[\"ranking\"] = p1_df.apply(ranking)\n",
    "p1_data[\"avg_point\"] = p1_df.apply(avg_point)\n",
    "p1_data[\"country\"] = p1_df.apply(country)\n",
    "p1_data[\"age\"] = p1_df.apply(age)\n",
    "p1_data[\"dominant_hand\"] = p1_df.apply(dominant_hand)\n",
    "p1_data[\"grip\"] = p1_df.apply(grip)\n",
    "p1_data[\"player_style\"] = p1_df.apply(player_style)\n",
    "\n",
    "\n"
   ]
  },
  {
   "cell_type": "code",
   "execution_count": 12,
   "metadata": {},
   "outputs": [],
   "source": [
    "p2_data = pd.DataFrame()\n",
    "\n",
    "p2_data[\"ranking\"] = p2_df.apply(ranking)\n",
    "p2_data[\"avg_point\"] = p2_df.apply(avg_point)\n",
    "p2_data[\"country\"] = p2_df.apply(country)\n",
    "p2_data[\"age\"] = p2_df.apply(age)\n",
    "p2_data[\"dominant_hand\"] = p2_df.apply(dominant_hand)\n",
    "p2_data[\"grip\"] = p2_df.apply(grip)\n",
    "p2_data[\"player_style\"] = p2_df.apply(player_style)\n"
   ]
  },
  {
   "attachments": {},
   "cell_type": "markdown",
   "metadata": {},
   "source": [
    "Looks like there are some false data in the data."
   ]
  },
  {
   "attachments": {},
   "cell_type": "markdown",
   "metadata": {},
   "source": [
    "To address to issue I'll replace the 'history' data with 'right' since it is the most common domminant hand."
   ]
  },
  {
   "cell_type": "code",
   "execution_count": 13,
   "metadata": {},
   "outputs": [
    {
     "data": {
      "text/plain": [
       "right      5203\n",
       "left       1752\n",
       "history      53\n",
       "Name: dominant_hand, dtype: int64"
      ]
     },
     "execution_count": 13,
     "metadata": {},
     "output_type": "execute_result"
    }
   ],
   "source": [
    "p1_data[\"dominant_hand\"].value_counts()"
   ]
  },
  {
   "cell_type": "code",
   "execution_count": 14,
   "metadata": {},
   "outputs": [
    {
     "data": {
      "text/plain": [
       "right    5256\n",
       "left     1752\n",
       "Name: dominant_hand, dtype: int64"
      ]
     },
     "execution_count": 14,
     "metadata": {},
     "output_type": "execute_result"
    }
   ],
   "source": [
    "p1_data[\"dominant_hand\"].replace(\"history\", \"right\", inplace=True)\n",
    "p1_data[\"dominant_hand\"].value_counts()"
   ]
  },
  {
   "attachments": {},
   "cell_type": "markdown",
   "metadata": {},
   "source": [
    "Lets check other categories"
   ]
  },
  {
   "cell_type": "code",
   "execution_count": 15,
   "metadata": {},
   "outputs": [
    {
     "data": {
      "text/plain": [
       "right      5153\n",
       "left       1804\n",
       "history      51\n",
       "Name: dominant_hand, dtype: int64"
      ]
     },
     "execution_count": 15,
     "metadata": {},
     "output_type": "execute_result"
    }
   ],
   "source": [
    "p2_data[\"dominant_hand\"].value_counts()"
   ]
  },
  {
   "cell_type": "code",
   "execution_count": 16,
   "metadata": {},
   "outputs": [
    {
     "data": {
      "text/plain": [
       "right    5204\n",
       "left     1804\n",
       "Name: dominant_hand, dtype: int64"
      ]
     },
     "execution_count": 16,
     "metadata": {},
     "output_type": "execute_result"
    }
   ],
   "source": [
    "p2_data[\"dominant_hand\"].replace(\"history\", \"right\", inplace=True)\n",
    "p2_data[\"dominant_hand\"].value_counts()"
   ]
  },
  {
   "cell_type": "code",
   "execution_count": 17,
   "metadata": {},
   "outputs": [
    {
     "data": {
      "text/plain": [
       "shakehand       6728\n",
       "penhold          227\n",
       "(01.05.2022)      24\n",
       "(01.10.2018)       8\n",
       "(01.05.2018)       7\n",
       "(01.05.2019)       6\n",
       "(01.11.2019)       3\n",
       "(01.09.2019)       3\n",
       "(01.11.2022)       2\n",
       "Name: grip, dtype: int64"
      ]
     },
     "execution_count": 17,
     "metadata": {},
     "output_type": "execute_result"
    }
   ],
   "source": [
    "p1_data[\"grip\"].value_counts()"
   ]
  },
  {
   "cell_type": "code",
   "execution_count": 18,
   "metadata": {},
   "outputs": [
    {
     "data": {
      "text/plain": [
       "['shakehand',\n",
       " 'penhold',\n",
       " '(01.05.2022)',\n",
       " '(01.11.2019)',\n",
       " '(01.11.2022)',\n",
       " '(01.10.2018)',\n",
       " '(01.09.2019)',\n",
       " '(01.05.2019)',\n",
       " '(01.05.2018)']"
      ]
     },
     "execution_count": 18,
     "metadata": {},
     "output_type": "execute_result"
    }
   ],
   "source": [
    "p1_data[\"grip\"].unique().tolist()"
   ]
  },
  {
   "cell_type": "code",
   "execution_count": 19,
   "metadata": {},
   "outputs": [
    {
     "data": {
      "text/plain": [
       "shakehand    6781\n",
       "penhold       227\n",
       "Name: grip, dtype: int64"
      ]
     },
     "execution_count": 19,
     "metadata": {},
     "output_type": "execute_result"
    }
   ],
   "source": [
    "p1_data[\"grip\"].replace(['(01.05.2022)',\n",
    " '(01.11.2019)',\n",
    " '(01.11.2022)',\n",
    " '(01.10.2018)',\n",
    " '(01.09.2019)',\n",
    " '(01.05.2019)',\n",
    " '(01.05.2018)'], [\"shakehand\", \"shakehand\",\"shakehand\",\"shakehand\",\"shakehand\",\"shakehand\",\"shakehand\"], inplace=True)\n",
    "p1_data[\"grip\"].value_counts()"
   ]
  },
  {
   "cell_type": "code",
   "execution_count": 20,
   "metadata": {},
   "outputs": [
    {
     "data": {
      "text/plain": [
       "shakehand       6769\n",
       "penhold          188\n",
       "(01.05.2022)      24\n",
       "(01.10.2018)      10\n",
       "(01.05.2018)       5\n",
       "(01.11.2022)       3\n",
       "(01.09.2019)       3\n",
       "(01.11.2019)       2\n",
       "(01.05.2019)       2\n",
       "(01.01.2023)       1\n",
       "(01.06.2019)       1\n",
       "Name: grip, dtype: int64"
      ]
     },
     "execution_count": 20,
     "metadata": {},
     "output_type": "execute_result"
    }
   ],
   "source": [
    "p2_data[\"grip\"].value_counts()"
   ]
  },
  {
   "cell_type": "code",
   "execution_count": 21,
   "metadata": {},
   "outputs": [
    {
     "data": {
      "text/plain": [
       "['shakehand',\n",
       " '(01.01.2023)',\n",
       " 'penhold',\n",
       " '(01.11.2019)',\n",
       " '(01.11.2022)',\n",
       " '(01.10.2018)',\n",
       " '(01.05.2022)',\n",
       " '(01.09.2019)',\n",
       " '(01.05.2018)',\n",
       " '(01.05.2019)',\n",
       " '(01.06.2019)']"
      ]
     },
     "execution_count": 21,
     "metadata": {},
     "output_type": "execute_result"
    }
   ],
   "source": [
    "p2_data[\"grip\"].unique().tolist()"
   ]
  },
  {
   "cell_type": "code",
   "execution_count": 22,
   "metadata": {},
   "outputs": [
    {
     "data": {
      "text/plain": [
       "shakehand    6820\n",
       "penhold       188\n",
       "Name: grip, dtype: int64"
      ]
     },
     "execution_count": 22,
     "metadata": {},
     "output_type": "execute_result"
    }
   ],
   "source": [
    "p2_data[\"grip\"].replace(['(01.01.2023)',\n",
    " '(01.11.2019)',\n",
    " '(01.11.2022)',\n",
    " '(01.10.2018)',\n",
    " '(01.05.2022)',\n",
    " '(01.09.2019)',\n",
    " '(01.05.2018)',\n",
    " '(01.05.2019)',\n",
    " '(01.06.2019)'], [\"shakehand\", \"shakehand\",\"shakehand\",\"shakehand\",\"shakehand\",\"shakehand\",\"shakehand\", \"shakehand\", \"shakehand\"], inplace=True)\n",
    "p2_data[\"grip\"].value_counts()"
   ]
  },
  {
   "cell_type": "code",
   "execution_count": 23,
   "metadata": {},
   "outputs": [
    {
     "data": {
      "text/plain": [
       "attack     6818\n",
       "defence     137\n",
       "(-1)         34\n",
       "(+3)         14\n",
       "(+4)          2\n",
       "(+1)          2\n",
       "(+2)          1\n",
       "Name: player_style, dtype: int64"
      ]
     },
     "execution_count": 23,
     "metadata": {},
     "output_type": "execute_result"
    }
   ],
   "source": [
    "p1_data[\"player_style\"].value_counts()"
   ]
  },
  {
   "attachments": {},
   "cell_type": "markdown",
   "metadata": {},
   "source": [
    "<p> Lastly I will fix the player style category. </p>"
   ]
  },
  {
   "cell_type": "code",
   "execution_count": 24,
   "metadata": {},
   "outputs": [
    {
     "data": {
      "text/plain": [
       "['attack', 'defence', '(+3)', '(-1)', '(+4)', '(+2)', '(+1)']"
      ]
     },
     "execution_count": 24,
     "metadata": {},
     "output_type": "execute_result"
    }
   ],
   "source": [
    "p1_data[\"player_style\"].unique().tolist()"
   ]
  },
  {
   "cell_type": "code",
   "execution_count": 25,
   "metadata": {},
   "outputs": [],
   "source": [
    "p1_data.replace([ '(+3)', '(-1)', '(+4)', '(+2)', '(+1)'], [\"attack\", \"attack\", \"attack\", \"attack\", \"attack\"], inplace=True)"
   ]
  },
  {
   "cell_type": "code",
   "execution_count": 26,
   "metadata": {},
   "outputs": [
    {
     "data": {
      "text/plain": [
       "['attack', '(+2)', 'defence', '(-1)', '(+4)', '(+3)', '(+1)']"
      ]
     },
     "execution_count": 26,
     "metadata": {},
     "output_type": "execute_result"
    }
   ],
   "source": [
    "p2_data[\"player_style\"].unique().tolist()"
   ]
  },
  {
   "cell_type": "code",
   "execution_count": 27,
   "metadata": {},
   "outputs": [],
   "source": [
    "p2_data.replace([ '(+3)', '(-1)', '(+4)', '(+2)', '(+1)'], [\"attack\", \"attack\", \"attack\", \"attack\", \"attack\"], inplace=True)"
   ]
  },
  {
   "attachments": {},
   "cell_type": "markdown",
   "metadata": {},
   "source": [
    "Okay know the data is ready to concat"
   ]
  },
  {
   "cell_type": "code",
   "execution_count": 28,
   "metadata": {},
   "outputs": [
    {
     "data": {
      "text/html": [
       "<div>\n",
       "<style scoped>\n",
       "    .dataframe tbody tr th:only-of-type {\n",
       "        vertical-align: middle;\n",
       "    }\n",
       "\n",
       "    .dataframe tbody tr th {\n",
       "        vertical-align: top;\n",
       "    }\n",
       "\n",
       "    .dataframe thead tr th {\n",
       "        text-align: left;\n",
       "    }\n",
       "</style>\n",
       "<table border=\"1\" class=\"dataframe\">\n",
       "  <thead>\n",
       "    <tr>\n",
       "      <th></th>\n",
       "      <th colspan=\"7\" halign=\"left\">p1</th>\n",
       "      <th colspan=\"7\" halign=\"left\">p2</th>\n",
       "      <th>winner</th>\n",
       "    </tr>\n",
       "    <tr>\n",
       "      <th></th>\n",
       "      <th>ranking</th>\n",
       "      <th>avg_point</th>\n",
       "      <th>country</th>\n",
       "      <th>age</th>\n",
       "      <th>dominant_hand</th>\n",
       "      <th>grip</th>\n",
       "      <th>player_style</th>\n",
       "      <th>ranking</th>\n",
       "      <th>avg_point</th>\n",
       "      <th>country</th>\n",
       "      <th>age</th>\n",
       "      <th>dominant_hand</th>\n",
       "      <th>grip</th>\n",
       "      <th>player_style</th>\n",
       "      <th></th>\n",
       "    </tr>\n",
       "  </thead>\n",
       "  <tbody>\n",
       "    <tr>\n",
       "      <th>0</th>\n",
       "      <td>552</td>\n",
       "      <td>8.00</td>\n",
       "      <td>USA</td>\n",
       "      <td>20</td>\n",
       "      <td>right</td>\n",
       "      <td>shakehand</td>\n",
       "      <td>attack</td>\n",
       "      <td>734</td>\n",
       "      <td>116.15</td>\n",
       "      <td>Nigeria</td>\n",
       "      <td>32</td>\n",
       "      <td>right</td>\n",
       "      <td>shakehand</td>\n",
       "      <td>attack</td>\n",
       "      <td>1</td>\n",
       "    </tr>\n",
       "    <tr>\n",
       "      <th>1</th>\n",
       "      <td>421</td>\n",
       "      <td>6.00</td>\n",
       "      <td>USA</td>\n",
       "      <td>46</td>\n",
       "      <td>left</td>\n",
       "      <td>shakehand</td>\n",
       "      <td>attack</td>\n",
       "      <td>284</td>\n",
       "      <td>90.86</td>\n",
       "      <td>Spain</td>\n",
       "      <td>26</td>\n",
       "      <td>right</td>\n",
       "      <td>shakehand</td>\n",
       "      <td>attack</td>\n",
       "      <td>0</td>\n",
       "    </tr>\n",
       "    <tr>\n",
       "      <th>2</th>\n",
       "      <td>571</td>\n",
       "      <td>21.76</td>\n",
       "      <td>Republic</td>\n",
       "      <td>31</td>\n",
       "      <td>right</td>\n",
       "      <td>shakehand</td>\n",
       "      <td>attack</td>\n",
       "      <td>280</td>\n",
       "      <td>67.32</td>\n",
       "      <td>Slovakia</td>\n",
       "      <td>23</td>\n",
       "      <td>left</td>\n",
       "      <td>shakehand</td>\n",
       "      <td>attack</td>\n",
       "      <td>0</td>\n",
       "    </tr>\n",
       "    <tr>\n",
       "      <th>3</th>\n",
       "      <td>314</td>\n",
       "      <td>98.78</td>\n",
       "      <td>USA</td>\n",
       "      <td>28</td>\n",
       "      <td>left</td>\n",
       "      <td>shakehand</td>\n",
       "      <td>attack</td>\n",
       "      <td>735</td>\n",
       "      <td>3.00</td>\n",
       "      <td>USA</td>\n",
       "      <td>42</td>\n",
       "      <td>right</td>\n",
       "      <td>shakehand</td>\n",
       "      <td>attack</td>\n",
       "      <td>1</td>\n",
       "    </tr>\n",
       "    <tr>\n",
       "      <th>4</th>\n",
       "      <td>119</td>\n",
       "      <td>79.22</td>\n",
       "      <td>Japan</td>\n",
       "      <td>30</td>\n",
       "      <td>right</td>\n",
       "      <td>shakehand</td>\n",
       "      <td>defence</td>\n",
       "      <td>524</td>\n",
       "      <td>20.19</td>\n",
       "      <td>Republic</td>\n",
       "      <td>27</td>\n",
       "      <td>right</td>\n",
       "      <td>shakehand</td>\n",
       "      <td>attack</td>\n",
       "      <td>1</td>\n",
       "    </tr>\n",
       "  </tbody>\n",
       "</table>\n",
       "</div>"
      ],
      "text/plain": [
       "       p1                                                                \\\n",
       "  ranking avg_point   country age dominant_hand       grip player_style   \n",
       "0     552      8.00       USA  20         right  shakehand       attack   \n",
       "1     421      6.00       USA  46          left  shakehand       attack   \n",
       "2     571     21.76  Republic  31         right  shakehand       attack   \n",
       "3     314     98.78       USA  28          left  shakehand       attack   \n",
       "4     119     79.22     Japan  30         right  shakehand      defence   \n",
       "\n",
       "       p2                                                               winner  \n",
       "  ranking avg_point   country age dominant_hand       grip player_style         \n",
       "0     734    116.15   Nigeria  32         right  shakehand       attack      1  \n",
       "1     284     90.86     Spain  26         right  shakehand       attack      0  \n",
       "2     280     67.32  Slovakia  23          left  shakehand       attack      0  \n",
       "3     735      3.00       USA  42         right  shakehand       attack      1  \n",
       "4     524     20.19  Republic  27         right  shakehand       attack      1  "
      ]
     },
     "execution_count": 28,
     "metadata": {},
     "output_type": "execute_result"
    }
   ],
   "source": [
    "final_data = pd.concat([p1_data, p2_data] ,keys=(\"p1\", \"p2\") ,axis=1)\n",
    "final_data[\"winner\"] = df[\"winner\"]\n",
    "final_data.head()\n"
   ]
  },
  {
   "attachments": {},
   "cell_type": "markdown",
   "metadata": {},
   "source": [
    "Lets get the data of successful players."
   ]
  },
  {
   "cell_type": "code",
   "execution_count": 29,
   "metadata": {},
   "outputs": [],
   "source": [
    "winners = pd.DataFrame()\n",
    "\n",
    "winners = pd.concat([final_data[final_data[\"winner\"] == 0][\"p2\"], final_data[final_data[\"winner\"] == 1][\"p1\"]], axis=0)\n",
    "\n"
   ]
  },
  {
   "cell_type": "code",
   "execution_count": 30,
   "metadata": {},
   "outputs": [
    {
     "data": {
      "text/plain": [
       "Text(0.5, 0, 'Grip')"
      ]
     },
     "execution_count": 30,
     "metadata": {},
     "output_type": "execute_result"
    },
    {
     "data": {
      "image/png": "[encoded data removed]",
      "text/plain": [
       "<Figure size 1000x500 with 1 Axes>"
      ]
     },
     "metadata": {},
     "output_type": "display_data"
    }
   ],
   "source": [
    "winners[\"grip\"].value_counts().plot(kind=\"bar\", figsize=(10, 5), colormap=\"plasma\")\n",
    "plt.title(\"The number of type of grips that used by the winners of professional matches\")\n",
    "plt.xlabel('Grip')\n"
   ]
  },
  {
   "cell_type": "code",
   "execution_count": 31,
   "metadata": {},
   "outputs": [
    {
     "data": {
      "text/plain": [
       "Text(0.5, 1.0, 'Number of age')"
      ]
     },
     "execution_count": 31,
     "metadata": {},
     "output_type": "execute_result"
    },
    {
     "data": {
      "image/png": "[encoded data removed]",
      "text/plain": [
       "<Figure size 1200x800 with 1 Axes>"
      ]
     },
     "metadata": {},
     "output_type": "display_data"
    }
   ],
   "source": [
    "winners[\"age\"].value_counts().plot(kind=\"barh\", colormap=\"twilight_shifted\", figsize=(12, 8))\n",
    "plt.title('Number of age')"
   ]
  },
  {
   "cell_type": "code",
   "execution_count": 32,
   "metadata": {},
   "outputs": [
    {
     "data": {
      "text/plain": [
       "Text(0.5, 1.0, 'Which attack style had been prefered among the winners')"
      ]
     },
     "execution_count": 32,
     "metadata": {},
     "output_type": "execute_result"
    },
    {
     "data": {
      "image/png": "[encoded data removed]",
      "text/plain": [
       "<Figure size 800x600 with 1 Axes>"
      ]
     },
     "metadata": {},
     "output_type": "display_data"
    }
   ],
   "source": [
    "winners[\"player_style\"].value_counts().plot(kind=\"bar\", colormap=\"twilight_shifted\", figsize=(8, 6))\n",
    "plt.title('Which attack style had been prefered among the winners')"
   ]
  },
  {
   "attachments": {},
   "cell_type": "markdown",
   "metadata": {},
   "source": [
    "Turn categorical values to numeric values. Thus now our model will be able to interpret the values."
   ]
  },
  {
   "cell_type": "code",
   "execution_count": 33,
   "metadata": {},
   "outputs": [],
   "source": [
    "final_data = pd.DataFrame()\n",
    "\n",
    "p1_data = pd.get_dummies(data=p1_data, columns=[\"country\", \"dominant_hand\", \"player_style\", \"grip\"])\n",
    "p2_data = pd.get_dummies(data=p2_data, columns=[\"country\", \"dominant_hand\", \"player_style\", \"grip\"])\n",
    "\n",
    "final_data = pd.concat([p1_data, p2_data],axis=1)\n",
    "final_data.dropna(axis=1, inplace=True)\n",
    "final_data[\"winner\"] = df[\"winner\"]\n",
    "\n"
   ]
  },
  {
   "attachments": {},
   "cell_type": "markdown",
   "metadata": {},
   "source": [
    "<p> Now its time to do some EDA </p>"
   ]
  },
  {
   "cell_type": "code",
   "execution_count": 34,
   "metadata": {},
   "outputs": [],
   "source": [
    "import seaborn as sns"
   ]
  },
  {
   "cell_type": "code",
   "execution_count": 35,
   "metadata": {},
   "outputs": [
    {
     "data": {
      "text/html": [
       "<div>\n",
       "<style scoped>\n",
       "    .dataframe tbody tr th:only-of-type {\n",
       "        vertical-align: middle;\n",
       "    }\n",
       "\n",
       "    .dataframe tbody tr th {\n",
       "        vertical-align: top;\n",
       "    }\n",
       "\n",
       "    .dataframe thead th {\n",
       "        text-align: right;\n",
       "    }\n",
       "</style>\n",
       "<table border=\"1\" class=\"dataframe\">\n",
       "  <thead>\n",
       "    <tr style=\"text-align: right;\">\n",
       "      <th></th>\n",
       "      <th>ranking</th>\n",
       "      <th>avg_point</th>\n",
       "      <th>age</th>\n",
       "      <th>country_Africa</th>\n",
       "      <th>country_Algeria</th>\n",
       "      <th>country_Angola</th>\n",
       "      <th>country_Arabia</th>\n",
       "      <th>country_Argentina</th>\n",
       "      <th>country_Australia</th>\n",
       "      <th>country_Austria</th>\n",
       "      <th>...</th>\n",
       "      <th>country_Yemen</th>\n",
       "      <th>country_Zambia</th>\n",
       "      <th>country_Zealand</th>\n",
       "      <th>dominant_hand_left</th>\n",
       "      <th>dominant_hand_right</th>\n",
       "      <th>player_style_attack</th>\n",
       "      <th>player_style_defence</th>\n",
       "      <th>grip_penhold</th>\n",
       "      <th>grip_shakehand</th>\n",
       "      <th>winner</th>\n",
       "    </tr>\n",
       "  </thead>\n",
       "  <tbody>\n",
       "    <tr>\n",
       "      <th>0</th>\n",
       "      <td>552</td>\n",
       "      <td>8.00</td>\n",
       "      <td>20</td>\n",
       "      <td>0</td>\n",
       "      <td>0</td>\n",
       "      <td>0</td>\n",
       "      <td>0</td>\n",
       "      <td>0</td>\n",
       "      <td>0</td>\n",
       "      <td>0</td>\n",
       "      <td>...</td>\n",
       "      <td>0</td>\n",
       "      <td>0</td>\n",
       "      <td>0</td>\n",
       "      <td>0</td>\n",
       "      <td>1</td>\n",
       "      <td>1</td>\n",
       "      <td>0</td>\n",
       "      <td>0</td>\n",
       "      <td>1</td>\n",
       "      <td>1</td>\n",
       "    </tr>\n",
       "    <tr>\n",
       "      <th>1</th>\n",
       "      <td>421</td>\n",
       "      <td>6.00</td>\n",
       "      <td>46</td>\n",
       "      <td>0</td>\n",
       "      <td>0</td>\n",
       "      <td>0</td>\n",
       "      <td>0</td>\n",
       "      <td>0</td>\n",
       "      <td>0</td>\n",
       "      <td>0</td>\n",
       "      <td>...</td>\n",
       "      <td>0</td>\n",
       "      <td>0</td>\n",
       "      <td>0</td>\n",
       "      <td>0</td>\n",
       "      <td>1</td>\n",
       "      <td>1</td>\n",
       "      <td>0</td>\n",
       "      <td>0</td>\n",
       "      <td>1</td>\n",
       "      <td>0</td>\n",
       "    </tr>\n",
       "    <tr>\n",
       "      <th>2</th>\n",
       "      <td>571</td>\n",
       "      <td>21.76</td>\n",
       "      <td>31</td>\n",
       "      <td>0</td>\n",
       "      <td>0</td>\n",
       "      <td>0</td>\n",
       "      <td>0</td>\n",
       "      <td>0</td>\n",
       "      <td>0</td>\n",
       "      <td>0</td>\n",
       "      <td>...</td>\n",
       "      <td>0</td>\n",
       "      <td>0</td>\n",
       "      <td>0</td>\n",
       "      <td>1</td>\n",
       "      <td>0</td>\n",
       "      <td>1</td>\n",
       "      <td>0</td>\n",
       "      <td>0</td>\n",
       "      <td>1</td>\n",
       "      <td>0</td>\n",
       "    </tr>\n",
       "    <tr>\n",
       "      <th>3</th>\n",
       "      <td>314</td>\n",
       "      <td>98.78</td>\n",
       "      <td>28</td>\n",
       "      <td>0</td>\n",
       "      <td>0</td>\n",
       "      <td>0</td>\n",
       "      <td>0</td>\n",
       "      <td>0</td>\n",
       "      <td>0</td>\n",
       "      <td>0</td>\n",
       "      <td>...</td>\n",
       "      <td>0</td>\n",
       "      <td>0</td>\n",
       "      <td>0</td>\n",
       "      <td>0</td>\n",
       "      <td>1</td>\n",
       "      <td>1</td>\n",
       "      <td>0</td>\n",
       "      <td>0</td>\n",
       "      <td>1</td>\n",
       "      <td>1</td>\n",
       "    </tr>\n",
       "    <tr>\n",
       "      <th>4</th>\n",
       "      <td>119</td>\n",
       "      <td>79.22</td>\n",
       "      <td>30</td>\n",
       "      <td>0</td>\n",
       "      <td>0</td>\n",
       "      <td>0</td>\n",
       "      <td>0</td>\n",
       "      <td>0</td>\n",
       "      <td>0</td>\n",
       "      <td>0</td>\n",
       "      <td>...</td>\n",
       "      <td>0</td>\n",
       "      <td>0</td>\n",
       "      <td>0</td>\n",
       "      <td>0</td>\n",
       "      <td>1</td>\n",
       "      <td>1</td>\n",
       "      <td>0</td>\n",
       "      <td>0</td>\n",
       "      <td>1</td>\n",
       "      <td>1</td>\n",
       "    </tr>\n",
       "  </tbody>\n",
       "</table>\n",
       "<p>5 rows × 238 columns</p>\n",
       "</div>"
      ],
      "text/plain": [
       "   ranking  avg_point  age  country_Africa  country_Algeria  country_Angola  \\\n",
       "0      552       8.00   20               0                0               0   \n",
       "1      421       6.00   46               0                0               0   \n",
       "2      571      21.76   31               0                0               0   \n",
       "3      314      98.78   28               0                0               0   \n",
       "4      119      79.22   30               0                0               0   \n",
       "\n",
       "   country_Arabia  country_Argentina  country_Australia  country_Austria  ...  \\\n",
       "0               0                  0                  0                0  ...   \n",
       "1               0                  0                  0                0  ...   \n",
       "2               0                  0                  0                0  ...   \n",
       "3               0                  0                  0                0  ...   \n",
       "4               0                  0                  0                0  ...   \n",
       "\n",
       "   country_Yemen  country_Zambia  country_Zealand  dominant_hand_left  \\\n",
       "0              0               0                0                   0   \n",
       "1              0               0                0                   0   \n",
       "2              0               0                0                   1   \n",
       "3              0               0                0                   0   \n",
       "4              0               0                0                   0   \n",
       "\n",
       "   dominant_hand_right  player_style_attack  player_style_defence  \\\n",
       "0                    1                    1                     0   \n",
       "1                    1                    1                     0   \n",
       "2                    0                    1                     0   \n",
       "3                    1                    1                     0   \n",
       "4                    1                    1                     0   \n",
       "\n",
       "   grip_penhold  grip_shakehand  winner  \n",
       "0             0               1       1  \n",
       "1             0               1       0  \n",
       "2             0               1       0  \n",
       "3             0               1       1  \n",
       "4             0               1       1  \n",
       "\n",
       "[5 rows x 238 columns]"
      ]
     },
     "execution_count": 35,
     "metadata": {},
     "output_type": "execute_result"
    }
   ],
   "source": [
    "final_data.head()"
   ]
  },
  {
   "attachments": {},
   "cell_type": "markdown",
   "metadata": {},
   "source": [
    "<p> It is time to do some statistics to determine wich values are relevant to the outcome of a match and how strong this connection </p>"
   ]
  },
  {
   "attachments": {},
   "cell_type": "markdown",
   "metadata": {},
   "source": [
    "But first lets check is there any null value that may couse problem\n"
   ]
  },
  {
   "cell_type": "code",
   "execution_count": 36,
   "metadata": {},
   "outputs": [
    {
     "data": {
      "text/plain": [
       "0"
      ]
     },
     "execution_count": 36,
     "metadata": {},
     "output_type": "execute_result"
    }
   ],
   "source": [
    "final_data.isnull().sum().sum()"
   ]
  },
  {
   "attachments": {},
   "cell_type": "markdown",
   "metadata": {},
   "source": [
    "Okay we good to go"
   ]
  },
  {
   "cell_type": "code",
   "execution_count": 37,
   "metadata": {},
   "outputs": [
    {
     "data": {
      "text/plain": [
       "ranking                -0.169956\n",
       "avg_point               0.152234\n",
       "age                     0.053469\n",
       "country_Africa         -0.001435\n",
       "country_Algeria        -0.032176\n",
       "                          ...   \n",
       "player_style_attack     0.044994\n",
       "player_style_defence   -0.044994\n",
       "grip_penhold           -0.036510\n",
       "grip_shakehand          0.036510\n",
       "winner                  1.000000\n",
       "Name: winner, Length: 238, dtype: float64"
      ]
     },
     "execution_count": 37,
     "metadata": {},
     "output_type": "execute_result"
    }
   ],
   "source": [
    "final_data.corr()[\"winner\"]\n"
   ]
  },
  {
   "attachments": {},
   "cell_type": "markdown",
   "metadata": {},
   "source": [
    "Since we have to much column I am going to select only the ones that are correlation coefficients are bigger than 0.01 or less than -0.01"
   ]
  },
  {
   "cell_type": "code",
   "execution_count": 39,
   "metadata": {},
   "outputs": [],
   "source": [
    "final_data = pd.DataFrame()"
   ]
  },
  {
   "cell_type": "code",
   "execution_count": 42,
   "metadata": {},
   "outputs": [],
   "source": [
    "final_data = pd.concat([p1_data, p2_data],axis=1)\n",
    "final_data.dropna(axis=1, inplace=True)"
   ]
  },
  {
   "cell_type": "code",
   "execution_count": 43,
   "metadata": {},
   "outputs": [],
   "source": [
    "results = df[\"winner\"]"
   ]
  },
  {
   "attachments": {},
   "cell_type": "markdown",
   "metadata": {},
   "source": [
    "Okay now Its time to start model the predictor."
   ]
  },
  {
   "cell_type": "code",
   "execution_count": 45,
   "metadata": {},
   "outputs": [],
   "source": [
    "from sklearn.model_selection import train_test_split"
   ]
  },
  {
   "cell_type": "code",
   "execution_count": 46,
   "metadata": {},
   "outputs": [],
   "source": [
    "X_train, X_test, y_train, y_test = train_test_split(final_data, results, test_size=0.25)"
   ]
  },
  {
   "cell_type": "code",
   "execution_count": 47,
   "metadata": {},
   "outputs": [],
   "source": [
    "from sklearn.metrics import f1_score\n",
    "from sklearn.linear_model import LogisticRegression"
   ]
  },
  {
   "cell_type": "code",
   "execution_count": 48,
   "metadata": {},
   "outputs": [],
   "source": [
    "clf_A = LogisticRegression()"
   ]
  },
  {
   "cell_type": "code",
   "execution_count": 49,
   "metadata": {},
   "outputs": [
    {
     "name": "stderr",
     "output_type": "stream",
     "text": [
      "c:\\Users\\dirim\\AppData\\Local\\Programs\\Python\\Python311\\Lib\\site-packages\\sklearn\\linear_model\\_logistic.py:458: ConvergenceWarning: lbfgs failed to converge (status=1):\n",
      "STOP: TOTAL NO. of ITERATIONS REACHED LIMIT.\n",
      "\n",
      "Increase the number of iterations (max_iter) or scale the data as shown in:\n",
      "    https://scikit-learn.org/stable/modules/preprocessing.html\n",
      "Please also refer to the documentation for alternative solver options:\n",
      "    https://scikit-learn.org/stable/modules/linear_model.html#logistic-regression\n",
      "  n_iter_i = _check_optimize_result(\n"
     ]
    },
    {
     "data": {
      "text/html": [
       "<style>#sk-container-id-1 {color: black;background-color: white;}#sk-container-id-1 pre{padding: 0;}#sk-container-id-1 div.sk-toggleable {background-color: white;}#sk-container-id-1 label.sk-toggleable__label {cursor: pointer;display: block;width: 100%;margin-bottom: 0;padding: 0.3em;box-sizing: border-box;text-align: center;}#sk-container-id-1 label.sk-toggleable__label-arrow:before {content: \"▸\";float: left;margin-right: 0.25em;color: #696969;}#sk-container-id-1 label.sk-toggleable__label-arrow:hover:before {color: black;}#sk-container-id-1 div.sk-estimator:hover label.sk-toggleable__label-arrow:before {color: black;}#sk-container-id-1 div.sk-toggleable__content {max-height: 0;max-width: 0;overflow: hidden;text-align: left;background-color: #f0f8ff;}#sk-container-id-1 div.sk-toggleable__content pre {margin: 0.2em;color: black;border-radius: 0.25em;background-color: #f0f8ff;}#sk-container-id-1 input.sk-toggleable__control:checked~div.sk-toggleable__content {max-height: 200px;max-width: 100%;overflow: auto;}#sk-container-id-1 input.sk-toggleable__control:checked~label.sk-toggleable__label-arrow:before {content: \"▾\";}#sk-container-id-1 div.sk-estimator input.sk-toggleable__control:checked~label.sk-toggleable__label {background-color: #d4ebff;}#sk-container-id-1 div.sk-label input.sk-toggleable__control:checked~label.sk-toggleable__label {background-color: #d4ebff;}#sk-container-id-1 input.sk-hidden--visually {border: 0;clip: rect(1px 1px 1px 1px);clip: rect(1px, 1px, 1px, 1px);height: 1px;margin: -1px;overflow: hidden;padding: 0;position: absolute;width: 1px;}#sk-container-id-1 div.sk-estimator {font-family: monospace;background-color: #f0f8ff;border: 1px dotted black;border-radius: 0.25em;box-sizing: border-box;margin-bottom: 0.5em;}#sk-container-id-1 div.sk-estimator:hover {background-color: #d4ebff;}#sk-container-id-1 div.sk-parallel-item::after {content: \"\";width: 100%;border-bottom: 1px solid gray;flex-grow: 1;}#sk-container-id-1 div.sk-label:hover label.sk-toggleable__label {background-color: #d4ebff;}#sk-container-id-1 div.sk-serial::before {content: \"\";position: absolute;border-left: 1px solid gray;box-sizing: border-box;top: 0;bottom: 0;left: 50%;z-index: 0;}#sk-container-id-1 div.sk-serial {display: flex;flex-direction: column;align-items: center;background-color: white;padding-right: 0.2em;padding-left: 0.2em;position: relative;}#sk-container-id-1 div.sk-item {position: relative;z-index: 1;}#sk-container-id-1 div.sk-parallel {display: flex;align-items: stretch;justify-content: center;background-color: white;position: relative;}#sk-container-id-1 div.sk-item::before, #sk-container-id-1 div.sk-parallel-item::before {content: \"\";position: absolute;border-left: 1px solid gray;box-sizing: border-box;top: 0;bottom: 0;left: 50%;z-index: -1;}#sk-container-id-1 div.sk-parallel-item {display: flex;flex-direction: column;z-index: 1;position: relative;background-color: white;}#sk-container-id-1 div.sk-parallel-item:first-child::after {align-self: flex-end;width: 50%;}#sk-container-id-1 div.sk-parallel-item:last-child::after {align-self: flex-start;width: 50%;}#sk-container-id-1 div.sk-parallel-item:only-child::after {width: 0;}#sk-container-id-1 div.sk-dashed-wrapped {border: 1px dashed gray;margin: 0 0.4em 0.5em 0.4em;box-sizing: border-box;padding-bottom: 0.4em;background-color: white;}#sk-container-id-1 div.sk-label label {font-family: monospace;font-weight: bold;display: inline-block;line-height: 1.2em;}#sk-container-id-1 div.sk-label-container {text-align: center;}#sk-container-id-1 div.sk-container {/* jupyter's `normalize.less` sets `[hidden] { display: none; }` but bootstrap.min.css set `[hidden] { display: none !important; }` so we also need the `!important` here to be able to override the default hidden behavior on the sphinx rendered scikit-learn.org. See: https://github.com/scikit-learn/scikit-learn/issues/21755 */display: inline-block !important;position: relative;}#sk-container-id-1 div.sk-text-repr-fallback {display: none;}</style><div id=\"sk-container-id-1\" class=\"sk-top-container\"><div class=\"sk-text-repr-fallback\"><pre>LogisticRegression()</pre><b>In a Jupyter environment, please rerun this cell to show the HTML representation or trust the notebook. <br />On GitHub, the HTML representation is unable to render, please try loading this page with nbviewer.org.</b></div><div class=\"sk-container\" hidden><div class=\"sk-item\"><div class=\"sk-estimator sk-toggleable\"><input class=\"sk-toggleable__control sk-hidden--visually\" id=\"sk-estimator-id-1\" type=\"checkbox\" checked><label for=\"sk-estimator-id-1\" class=\"sk-toggleable__label sk-toggleable__label-arrow\">LogisticRegression</label><div class=\"sk-toggleable__content\"><pre>LogisticRegression()</pre></div></div></div></div></div>"
      ],
      "text/plain": [
       "LogisticRegression()"
      ]
     },
     "execution_count": 49,
     "metadata": {},
     "output_type": "execute_result"
    }
   ],
   "source": [
    "clf_A.fit(X_train,y_train)"
   ]
  },
  {
   "cell_type": "code",
   "execution_count": 50,
   "metadata": {},
   "outputs": [],
   "source": [
    "from sklearn.metrics import confusion_matrix, classification_report"
   ]
  },
  {
   "cell_type": "code",
   "execution_count": 51,
   "metadata": {},
   "outputs": [],
   "source": [
    "predictions = clf_A.predict(X_test)"
   ]
  },
  {
   "cell_type": "code",
   "execution_count": 52,
   "metadata": {},
   "outputs": [
    {
     "name": "stdout",
     "output_type": "stream",
     "text": [
      "              precision    recall  f1-score   support\n",
      "\n",
      "           0       0.71      0.65      0.68       825\n",
      "           1       0.71      0.76      0.73       927\n",
      "\n",
      "    accuracy                           0.71      1752\n",
      "   macro avg       0.71      0.70      0.70      1752\n",
      "weighted avg       0.71      0.71      0.71      1752\n",
      "\n"
     ]
    }
   ],
   "source": [
    "print(classification_report(y_test, predictions))"
   ]
  },
  {
   "cell_type": "code",
   "execution_count": 53,
   "metadata": {},
   "outputs": [],
   "source": [
    "import pickle"
   ]
  },
  {
   "cell_type": "code",
   "execution_count": 54,
   "metadata": {},
   "outputs": [],
   "source": [
    "pickle.dump(clf_A, open(\"match_predictor.pickle\", \"wb\"))"
   ]
  }
 ],
 "metadata": {
  "kernelspec": {
   "display_name": "Python 3",
   "language": "python",
   "name": "python3"
  },
  "language_info": {
   "codemirror_mode": {
    "name": "ipython",
    "version": 3
   },
   "file_extension": ".py",
   "mimetype": "text/x-python",
   "name": "python",
   "nbconvert_exporter": "python",
   "pygments_lexer": "ipython3",
   "version": "3.11.0"
  },
  "orig_nbformat": 4,
  "vscode": {
   "interpreter": {
    "hash": "a0f38ed2a3efc2f4daffbdc4e3352e2488623fa2331192299eeb2ea2f5f3b8be"
   }
  }
 },
 "nbformat": 4,
 "nbformat_minor": 2
}
