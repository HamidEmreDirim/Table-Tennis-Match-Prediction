{
 "cells": [
  {
   "cell_type": "code",
   "execution_count": 1,
   "metadata": {},
   "outputs": [],
   "source": [
    "import pandas as pd\n",
    "import numpy as np\n",
    "import matplotlib.pyplot as plt\n",
    "import seaborn as sns\n"
   ]
  },
  {
   "cell_type": "code",
   "execution_count": 145,
   "metadata": {},
   "outputs": [],
   "source": [
    "data  = pd.read_csv(\"train.csv\")"
   ]
  },
  {
   "cell_type": "code",
   "execution_count": 146,
   "metadata": {},
   "outputs": [
    {
     "data": {
      "text/html": [
       "<div>\n",
       "<style scoped>\n",
       "    .dataframe tbody tr th:only-of-type {\n",
       "        vertical-align: middle;\n",
       "    }\n",
       "\n",
       "    .dataframe tbody tr th {\n",
       "        vertical-align: top;\n",
       "    }\n",
       "\n",
       "    .dataframe thead th {\n",
       "        text-align: right;\n",
       "    }\n",
       "</style>\n",
       "<table border=\"1\" class=\"dataframe\">\n",
       "  <thead>\n",
       "    <tr style=\"text-align: right;\">\n",
       "      <th></th>\n",
       "      <th>Id</th>\n",
       "      <th>MSSubClass</th>\n",
       "      <th>MSZoning</th>\n",
       "      <th>LotFrontage</th>\n",
       "      <th>LotArea</th>\n",
       "      <th>Street</th>\n",
       "      <th>Alley</th>\n",
       "      <th>LotShape</th>\n",
       "      <th>LandContour</th>\n",
       "      <th>Utilities</th>\n",
       "      <th>...</th>\n",
       "      <th>PoolArea</th>\n",
       "      <th>PoolQC</th>\n",
       "      <th>Fence</th>\n",
       "      <th>MiscFeature</th>\n",
       "      <th>MiscVal</th>\n",
       "      <th>MoSold</th>\n",
       "      <th>YrSold</th>\n",
       "      <th>SaleType</th>\n",
       "      <th>SaleCondition</th>\n",
       "      <th>SalePrice</th>\n",
       "    </tr>\n",
       "  </thead>\n",
       "  <tbody>\n",
       "    <tr>\n",
       "      <th>0</th>\n",
       "      <td>1</td>\n",
       "      <td>60</td>\n",
       "      <td>RL</td>\n",
       "      <td>65.0</td>\n",
       "      <td>8450</td>\n",
       "      <td>Pave</td>\n",
       "      <td>NaN</td>\n",
       "      <td>Reg</td>\n",
       "      <td>Lvl</td>\n",
       "      <td>AllPub</td>\n",
       "      <td>...</td>\n",
       "      <td>0</td>\n",
       "      <td>NaN</td>\n",
       "      <td>NaN</td>\n",
       "      <td>NaN</td>\n",
       "      <td>0</td>\n",
       "      <td>2</td>\n",
       "      <td>2008</td>\n",
       "      <td>WD</td>\n",
       "      <td>Normal</td>\n",
       "      <td>208500</td>\n",
       "    </tr>\n",
       "    <tr>\n",
       "      <th>1</th>\n",
       "      <td>2</td>\n",
       "      <td>20</td>\n",
       "      <td>RL</td>\n",
       "      <td>80.0</td>\n",
       "      <td>9600</td>\n",
       "      <td>Pave</td>\n",
       "      <td>NaN</td>\n",
       "      <td>Reg</td>\n",
       "      <td>Lvl</td>\n",
       "      <td>AllPub</td>\n",
       "      <td>...</td>\n",
       "      <td>0</td>\n",
       "      <td>NaN</td>\n",
       "      <td>NaN</td>\n",
       "      <td>NaN</td>\n",
       "      <td>0</td>\n",
       "      <td>5</td>\n",
       "      <td>2007</td>\n",
       "      <td>WD</td>\n",
       "      <td>Normal</td>\n",
       "      <td>181500</td>\n",
       "    </tr>\n",
       "    <tr>\n",
       "      <th>2</th>\n",
       "      <td>3</td>\n",
       "      <td>60</td>\n",
       "      <td>RL</td>\n",
       "      <td>68.0</td>\n",
       "      <td>11250</td>\n",
       "      <td>Pave</td>\n",
       "      <td>NaN</td>\n",
       "      <td>IR1</td>\n",
       "      <td>Lvl</td>\n",
       "      <td>AllPub</td>\n",
       "      <td>...</td>\n",
       "      <td>0</td>\n",
       "      <td>NaN</td>\n",
       "      <td>NaN</td>\n",
       "      <td>NaN</td>\n",
       "      <td>0</td>\n",
       "      <td>9</td>\n",
       "      <td>2008</td>\n",
       "      <td>WD</td>\n",
       "      <td>Normal</td>\n",
       "      <td>223500</td>\n",
       "    </tr>\n",
       "    <tr>\n",
       "      <th>3</th>\n",
       "      <td>4</td>\n",
       "      <td>70</td>\n",
       "      <td>RL</td>\n",
       "      <td>60.0</td>\n",
       "      <td>9550</td>\n",
       "      <td>Pave</td>\n",
       "      <td>NaN</td>\n",
       "      <td>IR1</td>\n",
       "      <td>Lvl</td>\n",
       "      <td>AllPub</td>\n",
       "      <td>...</td>\n",
       "      <td>0</td>\n",
       "      <td>NaN</td>\n",
       "      <td>NaN</td>\n",
       "      <td>NaN</td>\n",
       "      <td>0</td>\n",
       "      <td>2</td>\n",
       "      <td>2006</td>\n",
       "      <td>WD</td>\n",
       "      <td>Abnorml</td>\n",
       "      <td>140000</td>\n",
       "    </tr>\n",
       "    <tr>\n",
       "      <th>4</th>\n",
       "      <td>5</td>\n",
       "      <td>60</td>\n",
       "      <td>RL</td>\n",
       "      <td>84.0</td>\n",
       "      <td>14260</td>\n",
       "      <td>Pave</td>\n",
       "      <td>NaN</td>\n",
       "      <td>IR1</td>\n",
       "      <td>Lvl</td>\n",
       "      <td>AllPub</td>\n",
       "      <td>...</td>\n",
       "      <td>0</td>\n",
       "      <td>NaN</td>\n",
       "      <td>NaN</td>\n",
       "      <td>NaN</td>\n",
       "      <td>0</td>\n",
       "      <td>12</td>\n",
       "      <td>2008</td>\n",
       "      <td>WD</td>\n",
       "      <td>Normal</td>\n",
       "      <td>250000</td>\n",
       "    </tr>\n",
       "  </tbody>\n",
       "</table>\n",
       "<p>5 rows × 81 columns</p>\n",
       "</div>"
      ],
      "text/plain": [
       "   Id  MSSubClass MSZoning  LotFrontage  LotArea Street Alley LotShape  \\\n",
       "0   1          60       RL         65.0     8450   Pave   NaN      Reg   \n",
       "1   2          20       RL         80.0     9600   Pave   NaN      Reg   \n",
       "2   3          60       RL         68.0    11250   Pave   NaN      IR1   \n",
       "3   4          70       RL         60.0     9550   Pave   NaN      IR1   \n",
       "4   5          60       RL         84.0    14260   Pave   NaN      IR1   \n",
       "\n",
       "  LandContour Utilities  ... PoolArea PoolQC Fence MiscFeature MiscVal MoSold  \\\n",
       "0         Lvl    AllPub  ...        0    NaN   NaN         NaN       0      2   \n",
       "1         Lvl    AllPub  ...        0    NaN   NaN         NaN       0      5   \n",
       "2         Lvl    AllPub  ...        0    NaN   NaN         NaN       0      9   \n",
       "3         Lvl    AllPub  ...        0    NaN   NaN         NaN       0      2   \n",
       "4         Lvl    AllPub  ...        0    NaN   NaN         NaN       0     12   \n",
       "\n",
       "  YrSold  SaleType  SaleCondition  SalePrice  \n",
       "0   2008        WD         Normal     208500  \n",
       "1   2007        WD         Normal     181500  \n",
       "2   2008        WD         Normal     223500  \n",
       "3   2006        WD        Abnorml     140000  \n",
       "4   2008        WD         Normal     250000  \n",
       "\n",
       "[5 rows x 81 columns]"
      ]
     },
     "execution_count": 146,
     "metadata": {},
     "output_type": "execute_result"
    }
   ],
   "source": [
    "data.head()"
   ]
  },
  {
   "cell_type": "code",
   "execution_count": 147,
   "metadata": {},
   "outputs": [],
   "source": [
    "x = data.corr()[\"SalePrice\"] < 0.002\n"
   ]
  },
  {
   "cell_type": "code",
   "execution_count": 21,
   "metadata": {},
   "outputs": [
    {
     "data": {
      "text/plain": [
       "3"
      ]
     },
     "execution_count": 21,
     "metadata": {},
     "output_type": "execute_result"
    }
   ],
   "source": []
  },
  {
   "cell_type": "code",
   "execution_count": 148,
   "metadata": {},
   "outputs": [],
   "source": [
    "x = abs(data.corr()[\"SalePrice\"]) < 0.05"
   ]
  },
  {
   "cell_type": "code",
   "execution_count": 149,
   "metadata": {},
   "outputs": [],
   "source": [
    "x = x[x == True].index"
   ]
  },
  {
   "cell_type": "code",
   "execution_count": 150,
   "metadata": {},
   "outputs": [
    {
     "data": {
      "text/plain": [
       "Index(['Id', 'BsmtFinSF2', 'LowQualFinSF', 'BsmtHalfBath', '3SsnPorch',\n",
       "       'MiscVal', 'MoSold', 'YrSold'],\n",
       "      dtype='object')"
      ]
     },
     "execution_count": 150,
     "metadata": {},
     "output_type": "execute_result"
    }
   ],
   "source": []
  },
  {
   "cell_type": "code",
   "execution_count": 41,
   "metadata": {},
   "outputs": [],
   "source": [
    "data.drop(x.to_list(), axis=1, inplace=True)"
   ]
  },
  {
   "cell_type": "code",
   "execution_count": 42,
   "metadata": {},
   "outputs": [],
   "source": [
    "\n",
    "index = data.isnull().sum().values > 0\n",
    "indexes = np.where(index == True)"
   ]
  },
  {
   "cell_type": "code",
   "execution_count": 43,
   "metadata": {},
   "outputs": [],
   "source": [
    "indexes = indexes[0].tolist()"
   ]
  },
  {
   "cell_type": "code",
   "execution_count": 44,
   "metadata": {},
   "outputs": [
    {
     "data": {
      "text/plain": [
       "[2, 5, 24, 25, 29, 30, 31, 32, 34, 40, 53, 54, 55, 56, 59, 60, 67, 68, 69]"
      ]
     },
     "execution_count": 44,
     "metadata": {},
     "output_type": "execute_result"
    }
   ],
   "source": [
    "indexes"
   ]
  },
  {
   "cell_type": "code",
   "execution_count": 45,
   "metadata": {},
   "outputs": [],
   "source": [
    "rid_off = data.isnull().sum().apply(lambda x: x > 500)"
   ]
  },
  {
   "cell_type": "code",
   "execution_count": 46,
   "metadata": {},
   "outputs": [],
   "source": [
    "def srtrr(vrr):\n",
    "    if (vrr < 200) and (vrr != 0):\n",
    "        return True\n",
    "    else:\n",
    "        return False"
   ]
  },
  {
   "cell_type": "code",
   "execution_count": 47,
   "metadata": {},
   "outputs": [],
   "source": [
    "drop = data.isnull().sum().apply(lambda x: srtrr(x))"
   ]
  },
  {
   "cell_type": "code",
   "execution_count": 48,
   "metadata": {},
   "outputs": [],
   "source": [
    "fill = data.isnull().sum().apply(lambda x: x == 259)"
   ]
  },
  {
   "cell_type": "code",
   "execution_count": 49,
   "metadata": {},
   "outputs": [],
   "source": [
    "x = np.where(rid_off == True)"
   ]
  },
  {
   "cell_type": "code",
   "execution_count": 50,
   "metadata": {},
   "outputs": [],
   "source": [
    "a = []\n",
    "for column_index in x:\n",
    "    a.append(data.isnull().columns[column_index])\n",
    "\n",
    "rid_off = a\n"
   ]
  },
  {
   "cell_type": "code",
   "execution_count": 51,
   "metadata": {},
   "outputs": [],
   "source": [
    "y = np.where(drop == True)"
   ]
  },
  {
   "cell_type": "code",
   "execution_count": 52,
   "metadata": {},
   "outputs": [
    {
     "data": {
      "text/plain": [
       "MSSubClass       False\n",
       "MSZoning         False\n",
       "LotFrontage      False\n",
       "LotArea          False\n",
       "Street           False\n",
       "                 ...  \n",
       "Fence            False\n",
       "MiscFeature      False\n",
       "SaleType         False\n",
       "SaleCondition    False\n",
       "SalePrice        False\n",
       "Length: 73, dtype: bool"
      ]
     },
     "execution_count": 52,
     "metadata": {},
     "output_type": "execute_result"
    }
   ],
   "source": [
    "drop"
   ]
  },
  {
   "cell_type": "code",
   "execution_count": 53,
   "metadata": {},
   "outputs": [],
   "source": [
    "a = []\n",
    "for column_index in y:\n",
    "    a.append(data.isnull().columns[column_index])\n",
    "\n",
    "drop = a\n"
   ]
  },
  {
   "cell_type": "code",
   "execution_count": 54,
   "metadata": {},
   "outputs": [],
   "source": [
    "z = np.where(fill == True)"
   ]
  },
  {
   "cell_type": "code",
   "execution_count": 55,
   "metadata": {},
   "outputs": [],
   "source": [
    "a = []\n",
    "for column_index in z:\n",
    "    a.append(data.isnull().columns[column_index])\n",
    "\n",
    "fill = a"
   ]
  },
  {
   "cell_type": "code",
   "execution_count": 56,
   "metadata": {},
   "outputs": [],
   "source": [
    "p_data = data.drop(rid_off[0].to_list(), axis=1)"
   ]
  },
  {
   "cell_type": "code",
   "execution_count": 57,
   "metadata": {},
   "outputs": [
    {
     "data": {
      "text/plain": [
       "[Index(['LotFrontage'], dtype='object')]"
      ]
     },
     "execution_count": 57,
     "metadata": {},
     "output_type": "execute_result"
    }
   ],
   "source": [
    "fill"
   ]
  },
  {
   "cell_type": "code",
   "execution_count": 58,
   "metadata": {},
   "outputs": [
    {
     "data": {
      "text/plain": [
       "LotFrontage    1.000000\n",
       "1stFlrSF       0.457181\n",
       "LotArea        0.426095\n",
       "Name: LotFrontage, dtype: float64"
      ]
     },
     "execution_count": 58,
     "metadata": {},
     "output_type": "execute_result"
    }
   ],
   "source": [
    "p_data.corr()['LotFrontage'].nlargest(3)"
   ]
  },
  {
   "cell_type": "code",
   "execution_count": 59,
   "metadata": {},
   "outputs": [
    {
     "data": {
      "text/plain": [
       "0        856\n",
       "1       1262\n",
       "2        920\n",
       "3        961\n",
       "4       1145\n",
       "        ... \n",
       "1455     953\n",
       "1456    2073\n",
       "1457    1188\n",
       "1458    1078\n",
       "1459    1256\n",
       "Name: 1stFlrSF, Length: 1460, dtype: int64"
      ]
     },
     "execution_count": 59,
     "metadata": {},
     "output_type": "execute_result"
    }
   ],
   "source": [
    "p_data[\"1stFlrSF\"]"
   ]
  },
  {
   "cell_type": "code",
   "execution_count": 60,
   "metadata": {},
   "outputs": [
    {
     "data": {
      "text/plain": [
       "<seaborn.axisgrid.PairGrid at 0x1f44b839c90>"
      ]
     },
     "execution_count": 60,
     "metadata": {},
     "output_type": "execute_result"
    },
    {
     "data": {
      "image/png": "[encoded data removed]",
      "text/plain": [
       "<Figure size 360x360 with 6 Axes>"
      ]
     },
     "metadata": {
      "needs_background": "light"
     },
     "output_type": "display_data"
    }
   ],
   "source": [
    "sns.pairplot(data=p_data[[\"1stFlrSF\", 'LotFrontage']])"
   ]
  },
  {
   "cell_type": "code",
   "execution_count": 61,
   "metadata": {},
   "outputs": [],
   "source": [
    "p_data['LotFrontage'].fillna(p_data[\"1stFlrSF\"].apply(lambda x: x/300), inplace=True)"
   ]
  },
  {
   "cell_type": "code",
   "execution_count": 80,
   "metadata": {},
   "outputs": [
    {
     "data": {
      "text/plain": [
       "143"
      ]
     },
     "execution_count": 80,
     "metadata": {},
     "output_type": "execute_result"
    }
   ],
   "source": [
    "p_data[\"LotFrontage\"].value_counts().head(1).item()"
   ]
  },
  {
   "cell_type": "code",
   "execution_count": 81,
   "metadata": {},
   "outputs": [],
   "source": [
    "for i in p_data.columns[p_data.isnull().any(axis=0)]:\n",
    "    try:     #---Applying Only on variables with NaN values\n",
    "        p_data[i].fillna(p_data[i].mean(),inplace=True)\n",
    "    except TypeError:\n",
    "        p_data[i].fillna(p_data[i].value_counts().head(1).item(),inplace=True)"
   ]
  },
  {
   "cell_type": "code",
   "execution_count": 83,
   "metadata": {},
   "outputs": [],
   "source": [
    "d_data = pd.get_dummies(p_data, drop_first=True)"
   ]
  },
  {
   "cell_type": "code",
   "execution_count": 84,
   "metadata": {},
   "outputs": [],
   "source": [
    "from sklearn.model_selection import train_test_split"
   ]
  },
  {
   "cell_type": "code",
   "execution_count": 85,
   "metadata": {},
   "outputs": [],
   "source": [
    "from sklearn.linear_model import Ridge"
   ]
  },
  {
   "cell_type": "code",
   "execution_count": 86,
   "metadata": {},
   "outputs": [],
   "source": [
    "X = d_data.drop(\"SalePrice\", axis=1)\n",
    "y = d_data[\"SalePrice\"]"
   ]
  },
  {
   "cell_type": "code",
   "execution_count": 87,
   "metadata": {},
   "outputs": [],
   "source": [
    "X_train, X_test, y_train, y_test = train_test_split(X, y, test_size=0.33)"
   ]
  },
  {
   "cell_type": "code",
   "execution_count": 125,
   "metadata": {},
   "outputs": [],
   "source": [
    "clf = Ridge(alpha=15)"
   ]
  },
  {
   "cell_type": "code",
   "execution_count": 126,
   "metadata": {},
   "outputs": [
    {
     "data": {
      "text/html": [
       "<style>#sk-container-id-7 {color: black;background-color: white;}#sk-container-id-7 pre{padding: 0;}#sk-container-id-7 div.sk-toggleable {background-color: white;}#sk-container-id-7 label.sk-toggleable__label {cursor: pointer;display: block;width: 100%;margin-bottom: 0;padding: 0.3em;box-sizing: border-box;text-align: center;}#sk-container-id-7 label.sk-toggleable__label-arrow:before {content: \"▸\";float: left;margin-right: 0.25em;color: #696969;}#sk-container-id-7 label.sk-toggleable__label-arrow:hover:before {color: black;}#sk-container-id-7 div.sk-estimator:hover label.sk-toggleable__label-arrow:before {color: black;}#sk-container-id-7 div.sk-toggleable__content {max-height: 0;max-width: 0;overflow: hidden;text-align: left;background-color: #f0f8ff;}#sk-container-id-7 div.sk-toggleable__content pre {margin: 0.2em;color: black;border-radius: 0.25em;background-color: #f0f8ff;}#sk-container-id-7 input.sk-toggleable__control:checked~div.sk-toggleable__content {max-height: 200px;max-width: 100%;overflow: auto;}#sk-container-id-7 input.sk-toggleable__control:checked~label.sk-toggleable__label-arrow:before {content: \"▾\";}#sk-container-id-7 div.sk-estimator input.sk-toggleable__control:checked~label.sk-toggleable__label {background-color: #d4ebff;}#sk-container-id-7 div.sk-label input.sk-toggleable__control:checked~label.sk-toggleable__label {background-color: #d4ebff;}#sk-container-id-7 input.sk-hidden--visually {border: 0;clip: rect(1px 1px 1px 1px);clip: rect(1px, 1px, 1px, 1px);height: 1px;margin: -1px;overflow: hidden;padding: 0;position: absolute;width: 1px;}#sk-container-id-7 div.sk-estimator {font-family: monospace;background-color: #f0f8ff;border: 1px dotted black;border-radius: 0.25em;box-sizing: border-box;margin-bottom: 0.5em;}#sk-container-id-7 div.sk-estimator:hover {background-color: #d4ebff;}#sk-container-id-7 div.sk-parallel-item::after {content: \"\";width: 100%;border-bottom: 1px solid gray;flex-grow: 1;}#sk-container-id-7 div.sk-label:hover label.sk-toggleable__label {background-color: #d4ebff;}#sk-container-id-7 div.sk-serial::before {content: \"\";position: absolute;border-left: 1px solid gray;box-sizing: border-box;top: 0;bottom: 0;left: 50%;z-index: 0;}#sk-container-id-7 div.sk-serial {display: flex;flex-direction: column;align-items: center;background-color: white;padding-right: 0.2em;padding-left: 0.2em;position: relative;}#sk-container-id-7 div.sk-item {position: relative;z-index: 1;}#sk-container-id-7 div.sk-parallel {display: flex;align-items: stretch;justify-content: center;background-color: white;position: relative;}#sk-container-id-7 div.sk-item::before, #sk-container-id-7 div.sk-parallel-item::before {content: \"\";position: absolute;border-left: 1px solid gray;box-sizing: border-box;top: 0;bottom: 0;left: 50%;z-index: -1;}#sk-container-id-7 div.sk-parallel-item {display: flex;flex-direction: column;z-index: 1;position: relative;background-color: white;}#sk-container-id-7 div.sk-parallel-item:first-child::after {align-self: flex-end;width: 50%;}#sk-container-id-7 div.sk-parallel-item:last-child::after {align-self: flex-start;width: 50%;}#sk-container-id-7 div.sk-parallel-item:only-child::after {width: 0;}#sk-container-id-7 div.sk-dashed-wrapped {border: 1px dashed gray;margin: 0 0.4em 0.5em 0.4em;box-sizing: border-box;padding-bottom: 0.4em;background-color: white;}#sk-container-id-7 div.sk-label label {font-family: monospace;font-weight: bold;display: inline-block;line-height: 1.2em;}#sk-container-id-7 div.sk-label-container {text-align: center;}#sk-container-id-7 div.sk-container {/* jupyter's `normalize.less` sets `[hidden] { display: none; }` but bootstrap.min.css set `[hidden] { display: none !important; }` so we also need the `!important` here to be able to override the default hidden behavior on the sphinx rendered scikit-learn.org. See: https://github.com/scikit-learn/scikit-learn/issues/21755 */display: inline-block !important;position: relative;}#sk-container-id-7 div.sk-text-repr-fallback {display: none;}</style><div id=\"sk-container-id-7\" class=\"sk-top-container\"><div class=\"sk-text-repr-fallback\"><pre>Ridge(alpha=15)</pre><b>In a Jupyter environment, please rerun this cell to show the HTML representation or trust the notebook. <br />On GitHub, the HTML representation is unable to render, please try loading this page with nbviewer.org.</b></div><div class=\"sk-container\" hidden><div class=\"sk-item\"><div class=\"sk-estimator sk-toggleable\"><input class=\"sk-toggleable__control sk-hidden--visually\" id=\"sk-estimator-id-7\" type=\"checkbox\" checked><label for=\"sk-estimator-id-7\" class=\"sk-toggleable__label sk-toggleable__label-arrow\">Ridge</label><div class=\"sk-toggleable__content\"><pre>Ridge(alpha=15)</pre></div></div></div></div></div>"
      ],
      "text/plain": [
       "Ridge(alpha=15)"
      ]
     },
     "execution_count": 126,
     "metadata": {},
     "output_type": "execute_result"
    }
   ],
   "source": [
    "clf.fit(X_train, y_train)"
   ]
  },
  {
   "cell_type": "code",
   "execution_count": 127,
   "metadata": {},
   "outputs": [],
   "source": [
    "from sklearn.metrics import classification_report"
   ]
  },
  {
   "cell_type": "code",
   "execution_count": 128,
   "metadata": {},
   "outputs": [],
   "source": [
    "predictions = clf.predict(X_test)"
   ]
  },
  {
   "cell_type": "code",
   "execution_count": 129,
   "metadata": {},
   "outputs": [
    {
     "data": {
      "text/plain": [
       "array([160795.93988963, 182785.08889904, 114223.7281332 , 233576.4949224 ,\n",
       "        72183.02292359, 178016.73164333, 215744.10733027, 180550.36796779,\n",
       "       200585.01196354,  86211.14982526, 147747.1247966 , 141441.67870527,\n",
       "       122961.28734433, 114344.67466778, 244644.55043005, 140469.12908602,\n",
       "       392364.23267971, 119080.73685107,  84000.85820368, 108869.68343346,\n",
       "       355499.47871706, 113918.16153867, 251068.7258726 , 298999.82918645,\n",
       "       159248.0260218 , 193267.37325077, 303733.64253517, 180889.40555055,\n",
       "       373593.54105139, 201102.2520022 , 122653.1091507 , 128163.33168757,\n",
       "       176643.90923131, 126759.85699868, 188990.95889709, 109532.81064035,\n",
       "       246795.33793978, 179158.71220158, 224159.34054478, 195104.14441767,\n",
       "       206604.36376663, 239226.81442858, 215206.60756167, 221779.57160569,\n",
       "       115539.48310256, 118330.05517812,  94566.0010847 , 256565.86819804,\n",
       "       422100.68396839, 137714.50549855, 230984.80240469, 262807.4796085 ,\n",
       "       167292.98027613, 182982.73501932, 235931.31215664, 235081.49138799,\n",
       "       117670.87699764, 212603.28808097, 184441.05722288, 217050.55098763,\n",
       "       110457.74189435, 135706.12227532, 117376.79883841, 133418.82996576,\n",
       "       183097.75090971, 175087.71850982, 195938.89977348, 136484.27192762,\n",
       "       271414.82663324, 195612.59804536, 160989.72138035, 191752.91411922,\n",
       "        54526.83567027, 244383.28534383, 232081.08347234, 154600.4163154 ,\n",
       "       129130.48475196, 239644.00878068, 150556.37562811, 220755.24187097,\n",
       "       127379.51797295,  94423.57136915, 230260.58067353, 199071.56606933,\n",
       "       210500.75516214, 104576.90964431, 143297.73545693, 158905.55320244,\n",
       "       133380.95174059, 283400.04182655, 139700.65666738, 271933.74980025,\n",
       "       191738.23462626, 161950.46950548, 130977.4181681 , 149818.86563518,\n",
       "       167409.36203674, 113643.90783851, 126352.95888058, 214971.81227445,\n",
       "       238734.80109387, 113036.7676826 , 125848.63247079, 272053.31390256,\n",
       "       275123.52411631, 216545.17944048, 142519.05373482, 192074.36149958,\n",
       "       161582.00852374, 248173.14476478, 110503.36891205, 120054.67640273,\n",
       "        97126.07913132, 185468.23852155, 216735.75124759, 123168.28183735,\n",
       "       178617.75850809, 164090.18317019, 195519.38326736, 219673.04211318,\n",
       "       233104.91146683, 133653.46270444, 104731.06080153, 220751.43741407,\n",
       "       147623.37285388, 145676.96095198, 148465.39131914, 244077.51248168,\n",
       "       283200.02637186, 221981.27780013, 272287.75310408, 142941.56461315,\n",
       "        93113.15866856, 164780.58908627, 210988.7234086 , 130057.76828004,\n",
       "       196769.96575655, 168975.45368067,  50933.14065864, 231757.79380476,\n",
       "       119681.12074438, 144495.90268009, 112859.12275309, 162306.49743079,\n",
       "       348816.5487521 , 123280.14024948, 167744.47962212, 227488.70789455,\n",
       "       256771.12575177, 192509.51785156, 116590.65765971, 245373.49381423,\n",
       "       180149.70445268, 169382.84559748, 111964.44387289, 136476.72998649,\n",
       "       124611.55442743, 243407.58639305, 105648.3639427 , 252602.0758217 ,\n",
       "       192035.19197547,  71308.11744833,  95243.02662416,  69594.96038527,\n",
       "       154044.79773708, 276816.19569306, 189420.02795963, 220497.13169966,\n",
       "       179499.52063271, 140435.52956293, 207561.52574582, 130031.77270176,\n",
       "       194755.8790169 , 174915.80248347, 132407.21962522, 200828.20411613,\n",
       "       146758.28844392, 248371.55097143,  77015.91800642,  67575.36799336,\n",
       "       274181.52481946, 229868.65245745, 217827.1895885 , 203273.26361492,\n",
       "       169424.74428662, 173187.27757825, 214074.30763652, 206516.3804564 ,\n",
       "       199282.69408151, 187643.25834331, 308513.35224465, 543951.76088239,\n",
       "       179081.02064422, 130604.27912783,  89337.00807742, 180434.72299589,\n",
       "       163245.58269435, 375666.80449698, 160692.22538522,  77514.12776452,\n",
       "       264826.89650055, 103234.02213657, 155252.48484329, 211792.19077591,\n",
       "       234650.86586465, 158009.72765512, 213388.98213566, 349945.86080013,\n",
       "       215932.97378664, 136623.93817356,  97562.93174841, 154068.61693481,\n",
       "       318744.9584682 , 270236.19361261, 259127.81207506, 107987.39701573,\n",
       "       196186.92652152, 137081.21601632, 106072.40049161, 205248.06038223,\n",
       "       157583.52097359, 219244.65610147, 174696.69540059, 111607.48376968,\n",
       "       159572.02816225, 182254.33901121, 251894.61991935, 153099.70081311,\n",
       "       287932.73598978,  76745.66819049, 310689.61240836, 145471.21475976,\n",
       "       160323.33781796, 185796.04192187, 194114.33063138, 259281.32246009,\n",
       "       226787.02179822, 122455.89583265, 136010.50647801, 205722.27789672,\n",
       "       201018.42940887, 177713.67319169, 135630.59161138, 112125.99886788,\n",
       "       110838.15478999, 192668.37420971,  65644.52486259, 335222.16169508,\n",
       "        94568.67104407, 148992.58853664, 128684.34054694, 349959.53280579,\n",
       "       169868.12005279, 158853.88213789, 138723.78552307, 137875.16578918,\n",
       "       221371.29618457, 138771.57890201, 341599.44520955, 153253.23244929,\n",
       "       104524.70681451, 146698.33497556, 165835.04675805, 175672.18449217,\n",
       "       152101.9085421 , 162970.68674321, 229984.71072299,  86903.01850985,\n",
       "       160524.61550786, 189442.67752275, 315575.83843822, 202955.21412696,\n",
       "        83818.89478211, 264626.47541587, 314982.98416923, 127316.29089432,\n",
       "       348470.21351906,  48892.51739204, 197736.83552759, 223893.40794184,\n",
       "       111004.14972539, 145008.58878834, 213402.81999324, 143470.92250533,\n",
       "       282037.04797451, 184402.57544459, 177171.40506085, 197408.61033461,\n",
       "       114809.1806088 , 174495.60717543, 151277.5025644 , 309873.89893626,\n",
       "       213743.36580849, 226284.9153948 ,  91781.6191111 , 217101.31068359,\n",
       "       153037.39448517, 285400.30155575, 166614.43419073, 234813.01644852,\n",
       "       167296.04750448, 367200.60342218, 236136.14000253, 124972.18455089,\n",
       "       129058.12723239, 210623.30823486, 145324.00193082, 317836.2387495 ,\n",
       "       137155.30259661, 298264.90627806, 110215.8411259 , 205235.40109738,\n",
       "       176156.67478291, 199339.44743506,  94859.49912651, 135430.74132525,\n",
       "       295031.01412411, 137231.72617703, 122563.92740861, 135444.51905808,\n",
       "       214824.44069613, 145199.88079838, 131604.38296818, 169022.72712524,\n",
       "       150253.8332986 , 189651.03316146, 193778.59712341, 157166.14045274,\n",
       "       194043.01057888, 174213.97801423, 121676.16362963, 334538.12776463,\n",
       "       250859.55815694, 119366.75353674, 237288.12550272, 160011.36695471,\n",
       "       315386.00219035, 133074.72812705, 322281.21571264, 176844.33112487,\n",
       "       234977.91381529, 111964.53254177, 148373.73531554, 308192.17578727,\n",
       "        39185.74884084, 118901.20982095, 392148.34114406, 241454.43466721,\n",
       "       207296.28868386, 208418.47019813, 255537.27650381, 124022.65504901,\n",
       "       199782.98980919, 320392.99792547, 242276.65482854, 125987.04878737,\n",
       "       133264.02742783, 184612.59158903,  93185.7953236 , 323977.12405569,\n",
       "       253327.62259439, 108588.11959917, 194279.19764333, 153194.96856998,\n",
       "       341672.81383559, 154726.68698791, 134432.83035763, 199625.19391564,\n",
       "       100608.44330654, 197048.06643195,  98422.15650744, 241948.97010086,\n",
       "       157900.86531268, 133323.67346452, 279763.10399939, 106810.68717995,\n",
       "       198120.97552054, 226543.84013289, 131187.2108823 , 193354.25316274,\n",
       "       150528.45180576, 107841.77208093, 312965.85688873, 121003.25990664,\n",
       "       217559.70255034, 159594.8113203 , 128878.67063327, 344516.99505137,\n",
       "       166540.48235505, 227686.6872523 ,  94813.34096448, 208322.82872569,\n",
       "       257354.72167927, 157894.1408602 , 132032.58886975, 125214.91427493,\n",
       "       230785.08693904, 108658.54420623, 189584.50429834,  74530.86378937,\n",
       "       112443.91683183, 140078.82499116, 183101.79530544, 188810.86083205,\n",
       "       100172.66545911, 173514.74937674, 125894.53675171, 147539.24524829,\n",
       "       145844.46509619, 127254.72498846, 114610.35735612, 145135.78512347,\n",
       "        92982.90356446, 150528.37442544, 103969.76769683,  64834.03030354,\n",
       "       278279.54126486, 120276.09513442, 140199.69241107, 138227.03058229,\n",
       "       421562.41607972, 148418.86968552, 220531.251484  , 146347.30878784,\n",
       "       121395.55326803, 183925.4378189 , 230729.30447373, 148474.32718327,\n",
       "       167338.41963124, 124132.01663548, 158518.06294848, 118956.40843264,\n",
       "        93489.44207671, 330353.65729714, 170176.9682793 , 157254.4521636 ,\n",
       "       219806.39584558, 260630.95373563, 269539.92946582, 121616.41797716,\n",
       "       208792.85941136,  86123.66564222, 211892.66847375, 185921.12417838,\n",
       "       147850.82447466, 207547.97595253, 246736.29595857, 332094.16468254,\n",
       "       141296.92019756, 217788.47132268, 169690.01762841, 208916.33307493,\n",
       "       196354.45631427, 227681.34082588, 194507.16518739, 161230.89620748,\n",
       "       174630.72963967, 149143.63412761, 250328.48786645, 276275.63846416,\n",
       "       195333.21623391, 121527.70077096,  91753.24959508,  98537.28818865,\n",
       "       222400.87099759,  41624.05543564, 124671.9383708 , 202183.99607798,\n",
       "        90214.50614378, 207658.71558373,  80170.43285284, 170344.69529574,\n",
       "       210654.12557258, 193368.86661143, 129808.20042086, 161110.43432929,\n",
       "       140361.80626687, 109422.0482423 , 256776.00245129, 239135.43094674,\n",
       "       247323.87001623, 245439.74633314])"
      ]
     },
     "execution_count": 129,
     "metadata": {},
     "output_type": "execute_result"
    }
   ],
   "source": [
    "predictions"
   ]
  },
  {
   "cell_type": "code",
   "execution_count": 93,
   "metadata": {},
   "outputs": [
    {
     "data": {
      "text/plain": [
       "1012    165000\n",
       "628     135000\n",
       "1101    119500\n",
       "1381    237500\n",
       "48      113000\n",
       "         ...  \n",
       "1332    100000\n",
       "928     236500\n",
       "1043    262280\n",
       "82      245000\n",
       "866     248900\n",
       "Name: SalePrice, Length: 482, dtype: int64"
      ]
     },
     "execution_count": 93,
     "metadata": {},
     "output_type": "execute_result"
    }
   ],
   "source": [
    "y_test"
   ]
  },
  {
   "cell_type": "code",
   "execution_count": 130,
   "metadata": {},
   "outputs": [],
   "source": [
    "from sklearn import metrics"
   ]
  },
  {
   "cell_type": "code",
   "execution_count": 131,
   "metadata": {},
   "outputs": [
    {
     "name": "stdout",
     "output_type": "stream",
     "text": [
      "MAE: 17696.729832164914\n",
      "MSE: 866476482.1584891\n",
      "RMSE: 29435.97258726963\n"
     ]
    }
   ],
   "source": [
    "print('MAE:', metrics.mean_absolute_error(y_test, predictions))\n",
    "print('MSE:', metrics.mean_squared_error(y_test, predictions))\n",
    "print('RMSE:', np.sqrt(metrics.mean_squared_error(y_test, predictions)))"
   ]
  },
  {
   "cell_type": "code",
   "execution_count": 95,
   "metadata": {},
   "outputs": [
    {
     "name": "stdout",
     "output_type": "stream",
     "text": [
      "MAE: 19737.808494256362\n",
      "MSE: 954002616.3962693\n",
      "RMSE: 30886.932777410406\n"
     ]
    }
   ],
   "source": [
    "print('MAE:', metrics.mean_absolute_error(y_test, predictions))\n",
    "print('MSE:', metrics.mean_squared_error(y_test, predictions))\n",
    "print('RMSE:', np.sqrt(metrics.mean_squared_error(y_test, predictions)))"
   ]
  },
  {
   "cell_type": "code",
   "execution_count": 45,
   "metadata": {},
   "outputs": [
    {
     "name": "stdout",
     "output_type": "stream",
     "text": [
      "MAE: 17936.38090328683\n",
      "MSE: 1567374681.405765\n",
      "RMSE: 39590.08311946017\n"
     ]
    }
   ],
   "source": [
    "print('MAE:', metrics.mean_absolute_error(y_test, predictions))\n",
    "print('MSE:', metrics.mean_squared_error(y_test, predictions))\n",
    "print('RMSE:', np.sqrt(metrics.mean_squared_error(y_test, predictions)))"
   ]
  },
  {
   "cell_type": "code",
   "execution_count": null,
   "metadata": {},
   "outputs": [],
   "source": []
  },
  {
   "cell_type": "code",
   "execution_count": 124,
   "metadata": {},
   "outputs": [
    {
     "data": {
      "text/plain": [
       "<matplotlib.collections.PathCollection at 0x1f45513dc00>"
      ]
     },
     "execution_count": 124,
     "metadata": {},
     "output_type": "execute_result"
    },
    {
     "data": {
      "image/png": "[encoded data removed]",
      "text/plain": [
       "<Figure size 640x480 with 1 Axes>"
      ]
     },
     "metadata": {},
     "output_type": "display_data"
    }
   ],
   "source": [
    "plt.scatter(y_test,predictions)"
   ]
  },
  {
   "cell_type": "code",
   "execution_count": 46,
   "metadata": {},
   "outputs": [
    {
     "data": {
      "text/plain": [
       "<matplotlib.collections.PathCollection at 0x1f6e31b3640>"
      ]
     },
     "execution_count": 46,
     "metadata": {},
     "output_type": "execute_result"
    },
    {
     "data": {
      "image/png": "[encoded data removed]",
      "text/plain": [
       "<Figure size 640x480 with 1 Axes>"
      ]
     },
     "metadata": {},
     "output_type": "display_data"
    }
   ],
   "source": [
    "plt.scatter(y_test,predictions)"
   ]
  },
  {
   "cell_type": "markdown",
   "metadata": {},
   "source": [
    "Now evaluating the given data."
   ]
  },
  {
   "cell_type": "code",
   "execution_count": 180,
   "metadata": {},
   "outputs": [],
   "source": [
    "smb_data = pd.read_csv(\"test.csv\")"
   ]
  },
  {
   "cell_type": "code",
   "execution_count": 151,
   "metadata": {},
   "outputs": [
    {
     "data": {
      "text/plain": [
       "['Id',\n",
       " 'BsmtFinSF2',\n",
       " 'LowQualFinSF',\n",
       " 'BsmtHalfBath',\n",
       " '3SsnPorch',\n",
       " 'MiscVal',\n",
       " 'MoSold',\n",
       " 'YrSold']"
      ]
     },
     "execution_count": 151,
     "metadata": {},
     "output_type": "execute_result"
    }
   ],
   "source": [
    "x.to_list()"
   ]
  },
  {
   "cell_type": "code",
   "execution_count": 152,
   "metadata": {},
   "outputs": [],
   "source": [
    "smb_data.drop(x.tolist(), axis=1, inplace=True)"
   ]
  },
  {
   "cell_type": "code",
   "execution_count": 154,
   "metadata": {},
   "outputs": [],
   "source": [
    "smb_data['LotFrontage'].fillna(smb_data[\"1stFlrSF\"].apply(lambda x: x/300), inplace=True)\n"
   ]
  },
  {
   "cell_type": "code",
   "execution_count": 155,
   "metadata": {},
   "outputs": [],
   "source": [
    "smb_df = smb_data.drop(rid_off[0].to_list(), axis=1)"
   ]
  },
  {
   "cell_type": "code",
   "execution_count": 156,
   "metadata": {},
   "outputs": [
    {
     "data": {
      "text/plain": [
       "array([ 0,  4,  0,  0,  0,  0,  0,  2,  0,  0,  0,  0,  0,  0,  0,  0,  0,\n",
       "        0,  0,  0,  0,  1,  1, 16, 15,  0,  0,  0, 44, 45, 44, 42,  1, 42,\n",
       "        1,  1,  0,  0,  0,  0,  0,  0,  0,  2,  0,  0,  0,  0,  1,  0,  2,\n",
       "        0, 76, 78, 78,  1,  1, 78, 78,  0,  0,  0,  0,  0,  0,  1,  0],\n",
       "      dtype=int64)"
      ]
     },
     "execution_count": 156,
     "metadata": {},
     "output_type": "execute_result"
    }
   ],
   "source": [
    "smb_df.isnull().sum().values"
   ]
  },
  {
   "cell_type": "code",
   "execution_count": 157,
   "metadata": {},
   "outputs": [],
   "source": [
    "for i in smb_df.columns[smb_df.isnull().any(axis=0)]:\n",
    "    try:     #---Applying Only on variables with NaN values\n",
    "        smb_df[i].fillna(smb_df[i].mean(),inplace=True)\n",
    "    except TypeError:\n",
    "        smb_df[i].fillna(smb_df[i].value_counts().head(1).item(),inplace=True)"
   ]
  },
  {
   "cell_type": "code",
   "execution_count": 159,
   "metadata": {},
   "outputs": [],
   "source": [
    "xxx = pd.get_dummies(smb_df, drop_first=True)"
   ]
  },
  {
   "cell_type": "code",
   "execution_count": 166,
   "metadata": {},
   "outputs": [],
   "source": [
    "l1 = X_train.columns.to_list()"
   ]
  },
  {
   "cell_type": "code",
   "execution_count": 169,
   "metadata": {},
   "outputs": [],
   "source": [
    "l2 = xxx.columns.to_list()"
   ]
  },
  {
   "cell_type": "code",
   "execution_count": 170,
   "metadata": {},
   "outputs": [
    {
     "data": {
      "text/plain": [
       "['RoofMatl_CompShg',\n",
       " 'Exterior1st_Stone',\n",
       " 'Condition2_RRAe',\n",
       " 'GarageQual_Ex',\n",
       " 'RoofMatl_Roll',\n",
       " 'RoofMatl_Membran',\n",
       " 'HouseStyle_2.5Fin',\n",
       " 'Exterior1st_ImStucc',\n",
       " 'Electrical_FuseA',\n",
       " 'Heating_OthW',\n",
       " 'Utilities_NoSeWa',\n",
       " 'Exterior2nd_Other',\n",
       " 'Heating_GasA',\n",
       " 'Condition2_RRNn',\n",
       " 'Electrical_Mix',\n",
       " 'Condition2_RRAn',\n",
       " 'RoofMatl_Metal']"
      ]
     },
     "execution_count": 170,
     "metadata": {},
     "output_type": "execute_result"
    }
   ],
   "source": [
    "list(set(l1) - set(l2))"
   ]
  },
  {
   "cell_type": "code",
   "execution_count": 171,
   "metadata": {},
   "outputs": [
    {
     "data": {
      "text/plain": [
       "['SaleType_COD',\n",
       " 'KitchenQual_Ex',\n",
       " 'Utilities_AllPub',\n",
       " 'Functional_Maj1',\n",
       " 'Exterior2nd_AsbShng',\n",
       " 'MSZoning_C (all)',\n",
       " 'Exterior1st_AsbShng']"
      ]
     },
     "execution_count": 171,
     "metadata": {},
     "output_type": "execute_result"
    }
   ],
   "source": [
    "list(set(l2) - set(l1))"
   ]
  },
  {
   "cell_type": "code",
   "execution_count": 172,
   "metadata": {},
   "outputs": [],
   "source": [
    "X_train.drop(list(set(l1) - set(l2)), axis=1, inplace=True)\n",
    "xxx.drop(list(set(l2) - set(l1)), axis=1, inplace=True)"
   ]
  },
  {
   "cell_type": "code",
   "execution_count": 175,
   "metadata": {},
   "outputs": [
    {
     "data": {
      "text/html": [
       "<style>#sk-container-id-8 {color: black;background-color: white;}#sk-container-id-8 pre{padding: 0;}#sk-container-id-8 div.sk-toggleable {background-color: white;}#sk-container-id-8 label.sk-toggleable__label {cursor: pointer;display: block;width: 100%;margin-bottom: 0;padding: 0.3em;box-sizing: border-box;text-align: center;}#sk-container-id-8 label.sk-toggleable__label-arrow:before {content: \"▸\";float: left;margin-right: 0.25em;color: #696969;}#sk-container-id-8 label.sk-toggleable__label-arrow:hover:before {color: black;}#sk-container-id-8 div.sk-estimator:hover label.sk-toggleable__label-arrow:before {color: black;}#sk-container-id-8 div.sk-toggleable__content {max-height: 0;max-width: 0;overflow: hidden;text-align: left;background-color: #f0f8ff;}#sk-container-id-8 div.sk-toggleable__content pre {margin: 0.2em;color: black;border-radius: 0.25em;background-color: #f0f8ff;}#sk-container-id-8 input.sk-toggleable__control:checked~div.sk-toggleable__content {max-height: 200px;max-width: 100%;overflow: auto;}#sk-container-id-8 input.sk-toggleable__control:checked~label.sk-toggleable__label-arrow:before {content: \"▾\";}#sk-container-id-8 div.sk-estimator input.sk-toggleable__control:checked~label.sk-toggleable__label {background-color: #d4ebff;}#sk-container-id-8 div.sk-label input.sk-toggleable__control:checked~label.sk-toggleable__label {background-color: #d4ebff;}#sk-container-id-8 input.sk-hidden--visually {border: 0;clip: rect(1px 1px 1px 1px);clip: rect(1px, 1px, 1px, 1px);height: 1px;margin: -1px;overflow: hidden;padding: 0;position: absolute;width: 1px;}#sk-container-id-8 div.sk-estimator {font-family: monospace;background-color: #f0f8ff;border: 1px dotted black;border-radius: 0.25em;box-sizing: border-box;margin-bottom: 0.5em;}#sk-container-id-8 div.sk-estimator:hover {background-color: #d4ebff;}#sk-container-id-8 div.sk-parallel-item::after {content: \"\";width: 100%;border-bottom: 1px solid gray;flex-grow: 1;}#sk-container-id-8 div.sk-label:hover label.sk-toggleable__label {background-color: #d4ebff;}#sk-container-id-8 div.sk-serial::before {content: \"\";position: absolute;border-left: 1px solid gray;box-sizing: border-box;top: 0;bottom: 0;left: 50%;z-index: 0;}#sk-container-id-8 div.sk-serial {display: flex;flex-direction: column;align-items: center;background-color: white;padding-right: 0.2em;padding-left: 0.2em;position: relative;}#sk-container-id-8 div.sk-item {position: relative;z-index: 1;}#sk-container-id-8 div.sk-parallel {display: flex;align-items: stretch;justify-content: center;background-color: white;position: relative;}#sk-container-id-8 div.sk-item::before, #sk-container-id-8 div.sk-parallel-item::before {content: \"\";position: absolute;border-left: 1px solid gray;box-sizing: border-box;top: 0;bottom: 0;left: 50%;z-index: -1;}#sk-container-id-8 div.sk-parallel-item {display: flex;flex-direction: column;z-index: 1;position: relative;background-color: white;}#sk-container-id-8 div.sk-parallel-item:first-child::after {align-self: flex-end;width: 50%;}#sk-container-id-8 div.sk-parallel-item:last-child::after {align-self: flex-start;width: 50%;}#sk-container-id-8 div.sk-parallel-item:only-child::after {width: 0;}#sk-container-id-8 div.sk-dashed-wrapped {border: 1px dashed gray;margin: 0 0.4em 0.5em 0.4em;box-sizing: border-box;padding-bottom: 0.4em;background-color: white;}#sk-container-id-8 div.sk-label label {font-family: monospace;font-weight: bold;display: inline-block;line-height: 1.2em;}#sk-container-id-8 div.sk-label-container {text-align: center;}#sk-container-id-8 div.sk-container {/* jupyter's `normalize.less` sets `[hidden] { display: none; }` but bootstrap.min.css set `[hidden] { display: none !important; }` so we also need the `!important` here to be able to override the default hidden behavior on the sphinx rendered scikit-learn.org. See: https://github.com/scikit-learn/scikit-learn/issues/21755 */display: inline-block !important;position: relative;}#sk-container-id-8 div.sk-text-repr-fallback {display: none;}</style><div id=\"sk-container-id-8\" class=\"sk-top-container\"><div class=\"sk-text-repr-fallback\"><pre>Ridge(alpha=15)</pre><b>In a Jupyter environment, please rerun this cell to show the HTML representation or trust the notebook. <br />On GitHub, the HTML representation is unable to render, please try loading this page with nbviewer.org.</b></div><div class=\"sk-container\" hidden><div class=\"sk-item\"><div class=\"sk-estimator sk-toggleable\"><input class=\"sk-toggleable__control sk-hidden--visually\" id=\"sk-estimator-id-8\" type=\"checkbox\" checked><label for=\"sk-estimator-id-8\" class=\"sk-toggleable__label sk-toggleable__label-arrow\">Ridge</label><div class=\"sk-toggleable__content\"><pre>Ridge(alpha=15)</pre></div></div></div></div></div>"
      ],
      "text/plain": [
       "Ridge(alpha=15)"
      ]
     },
     "execution_count": 175,
     "metadata": {},
     "output_type": "execute_result"
    }
   ],
   "source": [
    "clf = Ridge(alpha=15)\n",
    "clf.fit(X_train, y_train)"
   ]
  },
  {
   "cell_type": "code",
   "execution_count": 176,
   "metadata": {},
   "outputs": [],
   "source": [
    "predictions = clf.predict(xxx)"
   ]
  },
  {
   "cell_type": "code",
   "execution_count": 177,
   "metadata": {},
   "outputs": [],
   "source": [
    "submission_data = pd.DataFrame()"
   ]
  },
  {
   "cell_type": "code",
   "execution_count": 181,
   "metadata": {},
   "outputs": [],
   "source": [
    "submission_data[\"Id\"] = smb_data[\"Id\"]\n",
    "submission_data[\"SalePrice\"] = predictions"
   ]
  },
  {
   "cell_type": "code",
   "execution_count": 184,
   "metadata": {},
   "outputs": [],
   "source": [
    "submission_data.to_csv(\"submission.csv\", index=False)"
   ]
  },
  {
   "cell_type": "code",
   "execution_count": null,
   "metadata": {},
   "outputs": [],
   "source": []
  }
 ],
 "metadata": {
  "interpreter": {
   "hash": "01121e1630c19f8c936edf0ba0fdeabe277dcaf2cfab9f1ceb772817adb87393"
  },
  "kernelspec": {
   "display_name": "Python 3.10.4 64-bit",
   "language": "python",
   "name": "python3"
  },
  "language_info": {
   "codemirror_mode": {
    "name": "ipython",
    "version": 3
   },
   "file_extension": ".py",
   "mimetype": "text/x-python",
   "name": "python",
   "nbconvert_exporter": "python",
   "pygments_lexer": "ipython3",
   "version": "3.10.4"
  },
  "orig_nbformat": 4
 },
 "nbformat": 4,
 "nbformat_minor": 2
}
